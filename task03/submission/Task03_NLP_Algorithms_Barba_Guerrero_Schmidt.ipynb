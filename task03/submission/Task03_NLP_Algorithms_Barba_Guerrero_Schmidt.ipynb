{
  "cells": [
    {
      "cell_type": "markdown",
      "metadata": {
        "id": "OKuaZw3Lob1o"
      },
      "source": [
        "# Models creation"
      ]
    },
    {
      "cell_type": "markdown",
      "metadata": {
        "id": "KxXYDRGLpNSi"
      },
      "source": [
        "# 1. Introduction"
      ]
    },
    {
      "cell_type": "markdown",
      "metadata": {
        "id": "Vz2oBZg4oeCf"
      },
      "source": [
        "This google colab file is aimed at developing models for the previously obtained dataframes. The authors of this file are:\n",
        "\n",
        "- [Raúl Barba Rojas](mailto:Raul.Barba@alu.uclm.es)\n",
        "- [Diego Guerrero Del Pozo](mailto:Diego.Guerrero@alu.uclm.es)\n",
        "- [Marvin Schmidt](mailto:Marvin.Schmidt@alu.uclm.es)"
      ]
    },
    {
      "cell_type": "markdown",
      "metadata": {
        "id": "N4Umgy39eVvZ"
      },
      "source": [
        "# 2. TF-IDF\n"
      ]
    },
    {
      "cell_type": "markdown",
      "metadata": {
        "id": "0v0RUkQceXqv"
      },
      "source": [
        "The first models that we need to create are related to the basic version of the NLP project, which applies vectorization only using TF-IDF. We will test two different models, which will be hyperparametrized considering crossvalidation."
      ]
    },
    {
      "cell_type": "markdown",
      "metadata": {
        "id": "vIA07oP5qNI2"
      },
      "source": [
        "## 2.1. Loading the data"
      ]
    },
    {
      "cell_type": "markdown",
      "metadata": {
        "id": "iBZvmdhSqQTy"
      },
      "source": [
        "The first step will be to load the data that we obtained in the previous google colab. To do so, upload the file called `tfidf.csv` to the content directory of this google colab environment.\n",
        "\n",
        "Once that has been done, we can load the dataframe:"
      ]
    },
    {
      "cell_type": "code",
      "execution_count": null,
      "metadata": {
        "colab": {
          "base_uri": "https://localhost:8080/"
        },
        "id": "jbYyb_sKt99_",
        "outputId": "b78254a4-12b8-4b42-fa7e-b8c4c5d35992"
      },
      "outputs": [
        {
          "output_type": "stream",
          "name": "stdout",
          "text": [
            "--2023-01-13 19:41:43--  https://raw.githubusercontent.com/schmidt-marvin/ESI_2022_TecAA/main/task03/intermediate_files/tfidf_2.csv\n",
            "Resolving raw.githubusercontent.com (raw.githubusercontent.com)... 185.199.108.133, 185.199.109.133, 185.199.110.133, ...\n",
            "Connecting to raw.githubusercontent.com (raw.githubusercontent.com)|185.199.108.133|:443... connected.\n",
            "HTTP request sent, awaiting response... 200 OK\n",
            "Length: 7122733 (6.8M) [text/plain]\n",
            "Saving to: ‘tfidf_2.csv’\n",
            "\n",
            "tfidf_2.csv         100%[===================>]   6.79M  --.-KB/s    in 0.03s   \n",
            "\n",
            "2023-01-13 19:41:43 (197 MB/s) - ‘tfidf_2.csv’ saved [7122733/7122733]\n",
            "\n"
          ]
        }
      ],
      "source": [
        "import pandas as pd\n",
        "\n",
        "!wget 'https://raw.githubusercontent.com/schmidt-marvin/ESI_2022_TecAA/main/task03/intermediate_files/tfidf_2.csv'\n",
        "\n",
        "df_full = pd.read_csv('tfidf_2.csv', index_col = 'Unnamed: 0')"
      ]
    },
    {
      "cell_type": "markdown",
      "metadata": {
        "id": "_9q1yIXUyCvT"
      },
      "source": [
        "Let us take a look at the data, to see whether it is balanced or not:"
      ]
    },
    {
      "cell_type": "code",
      "execution_count": null,
      "metadata": {
        "colab": {
          "base_uri": "https://localhost:8080/",
          "height": 304
        },
        "id": "ggNNFa6ZyFSk",
        "outputId": "7a8f919b-7af9-4e95-8098-1eabff21a6e2"
      },
      "outputs": [
        {
          "output_type": "execute_result",
          "data": {
            "text/plain": [
              "<matplotlib.axes._subplots.AxesSubplot at 0x7f0b66620310>"
            ]
          },
          "metadata": {},
          "execution_count": 4
        },
        {
          "output_type": "display_data",
          "data": {
            "text/plain": [
              "<Figure size 432x288 with 1 Axes>"
            ],
            "image/png": "[encoded data removed]"
          },
          "metadata": {
            "needs_background": "light"
          }
        }
      ],
      "source": [
        "df_full[['score']].value_counts().plot(kind = 'bar')"
      ]
    },
    {
      "cell_type": "markdown",
      "metadata": {
        "id": "L-mrbtmkydZO"
      },
      "source": [
        "As we can see, we do have unbalanced data. To prevent unbalanced data problems, we will make use of stratified kfold (some other strategies such as oversampling or undersampling could also be used, but we will only use the stratified kfold)."
      ]
    },
    {
      "cell_type": "markdown",
      "metadata": {
        "id": "jKucPw_ntpnf"
      },
      "source": [
        "Let us split the data into train and test. A 70% train and 30% test distribution is required, so let us specify those arguments in the train_test_split function of sklearn:"
      ]
    },
    {
      "cell_type": "code",
      "execution_count": null,
      "metadata": {
        "id": "fh4wvlQ0qe8H"
      },
      "outputs": [],
      "source": [
        "from sklearn.model_selection import train_test_split\n",
        "\n",
        "X_train, X_test, Y_train, Y_test = train_test_split(df_full.drop(columns = ['score']), df_full.score, random_state = 1, train_size = 0.7)"
      ]
    },
    {
      "cell_type": "markdown",
      "metadata": {
        "id": "hLn3btOQp7sV"
      },
      "source": [
        "## 2.2. SVM"
      ]
    },
    {
      "cell_type": "markdown",
      "metadata": {
        "id": "Sp9oKciNzL__"
      },
      "source": [
        "### 2.2.1. Default model"
      ]
    },
    {
      "cell_type": "markdown",
      "metadata": {
        "id": "KHZqTruTp8-c"
      },
      "source": [
        "The first model that we will try is support vector machines (SVM), in this case, we will try a support vector classifier (SVC), because we have a classification problem. Let us create a default model to obtain an initial result:"
      ]
    },
    {
      "cell_type": "code",
      "execution_count": null,
      "metadata": {
        "id": "bf0ZfK0zobO1"
      },
      "outputs": [],
      "source": [
        "from sklearn.svm import SVC\n",
        "from sklearn.metrics import f1_score\n",
        "from sklearn.metrics import recall_score\n",
        "from sklearn.metrics import precision_score\n",
        "\n",
        "svm_model = SVC(random_state = 0)\n",
        "svm_model.fit(X_train, Y_train)\n",
        "Y_pred = svm_model.predict(X_test)"
      ]
    },
    {
      "cell_type": "markdown",
      "metadata": {
        "id": "CG8Eok31rZuY"
      },
      "source": [
        "Let us obtain the results for the default model:"
      ]
    },
    {
      "cell_type": "code",
      "execution_count": null,
      "metadata": {
        "colab": {
          "base_uri": "https://localhost:8080/"
        },
        "id": "ark4cCibwsVb",
        "outputId": "6a796960-ce29-4f91-9e27-0039af5d8806"
      },
      "outputs": [
        {
          "name": "stdout",
          "output_type": "stream",
          "text": [
            "Looking in indexes: https://pypi.org/simple, https://us-python.pkg.dev/colab-wheels/public/simple/\n",
            "Requirement already satisfied: tabulate in /usr/local/lib/python3.8/dist-packages (0.8.10)\n"
          ]
        }
      ],
      "source": [
        "!pip install tabulate"
      ]
    },
    {
      "cell_type": "code",
      "execution_count": null,
      "metadata": {
        "colab": {
          "base_uri": "https://localhost:8080/"
        },
        "id": "-2yIdvs3rbjI",
        "outputId": "92bc8576-39d0-41d1-cd03-3c10b48d17e2"
      },
      "outputs": [
        {
          "name": "stdout",
          "output_type": "stream",
          "text": [
            "  Precision    Recall    F1 Score\n",
            "-----------  --------  ----------\n",
            "   0.733333  0.733333    0.733333\n"
          ]
        }
      ],
      "source": [
        "from tabulate import tabulate\n",
        "\n",
        "f1_val = f1_score(Y_test, Y_pred, average = 'micro')\n",
        "acc_val = precision_score(Y_test, Y_pred, average = 'micro')\n",
        "recall_val = recall_score(Y_test, Y_pred, average = 'micro')\n",
        "\n",
        "print(tabulate([[acc_val, recall_val, f1_val]], headers = ['Precision', 'Recall', 'F1 Score']))"
      ]
    },
    {
      "cell_type": "markdown",
      "metadata": {
        "id": "0FwSKE7UxrP6"
      },
      "source": [
        "As we can see, the precision and the recall are exactly the same (zero difference), and the result if an f1-score of 0.73. Which is not too bad for a default model. \n",
        "\n",
        "Let us take a look at the confussion matrix:"
      ]
    },
    {
      "cell_type": "code",
      "execution_count": null,
      "metadata": {
        "colab": {
          "base_uri": "https://localhost:8080/",
          "height": 315
        },
        "id": "4B1NrmJHr8sQ",
        "outputId": "038e946d-5c22-4fc6-b553-53bb099cf88a"
      },
      "outputs": [
        {
          "data": {
            "text/plain": [
              "<sklearn.metrics._plot.confusion_matrix.ConfusionMatrixDisplay at 0x7f77fa373a30>"
            ]
          },
          "execution_count": 7,
          "metadata": {},
          "output_type": "execute_result"
        },
        {
          "data": {
            "image/png": "[encoded data removed]",
            "text/plain": [
              "<Figure size 432x288 with 2 Axes>"
            ]
          },
          "metadata": {},
          "output_type": "display_data"
        }
      ],
      "source": [
        "import matplotlib.pyplot as plt\n",
        "from sklearn.metrics import confusion_matrix, ConfusionMatrixDisplay\n",
        "cm = confusion_matrix(Y_test, Y_pred, labels= svm_model.classes_)\n",
        "disp = ConfusionMatrixDisplay(confusion_matrix=cm, display_labels=svm_model.classes_)\n",
        "disp.plot()"
      ]
    },
    {
      "cell_type": "markdown",
      "metadata": {
        "id": "rvJbsmoCx82J"
      },
      "source": [
        "As we can see, we have the unbalanced data problem that was mentioned before, however, the good thing is that most of the times that the model predicts a score of 5, it really is 5, which is good (since that is the most typical case)."
      ]
    },
    {
      "cell_type": "markdown",
      "metadata": {
        "id": "nAdCkJ32zNM4"
      },
      "source": [
        "### 2.2.2. Hyperparametrization"
      ]
    },
    {
      "cell_type": "markdown",
      "metadata": {
        "id": "gtZPeAv0zTq3"
      },
      "source": [
        "For the SVC hyperparametrization, we will make use of GridSearchCV (using sklearn), using the stratified kfold (to prevent problems due to unbalanced data)."
      ]
    },
    {
      "cell_type": "markdown",
      "metadata": {
        "id": "LsvKl0-eziNV"
      },
      "source": [
        "Firstly, we will define the following function to obtain a report of the result of the hyperparametrization:"
      ]
    },
    {
      "cell_type": "code",
      "execution_count": null,
      "metadata": {
        "id": "H5JLrIf5x52u"
      },
      "outputs": [],
      "source": [
        "### THIS CODE WAS OBTAINED FROM THE SAMPLE CODE GIVEN IN THE SUBJECT IN THIS COLAB: https://colab.research.google.com/drive/1qk_2pqwj69Xrnj9_5i-M32tD8BceLCPE?usp=sharing\n",
        "\n",
        "import numpy as np\n",
        "\n",
        "def report(results, n_top=3): \n",
        "    for i in range(1, n_top + 1):\n",
        "        candidates = np.flatnonzero(results['rank_test_score'] == i)\n",
        "        for candidate in candidates:\n",
        "            print(\"Model with rank: {0}\".format(i))\n",
        "            print(\"Mean validation score: {0:.3f} (std: {1:.3f})\".format(\n",
        "                  results['mean_test_score'][candidate],\n",
        "                  results['std_test_score'][candidate]))\n",
        "            print(\"Parameters: {0}\".format(results['params'][candidate]))\n",
        "            print(\"\")"
      ]
    },
    {
      "cell_type": "code",
      "execution_count": null,
      "metadata": {
        "colab": {
          "base_uri": "https://localhost:8080/"
        },
        "id": "t5vksFoTznPV",
        "outputId": "9327bf01-6fcc-49d3-9484-65739dd64256"
      },
      "outputs": [
        {
          "name": "stdout",
          "output_type": "stream",
          "text": [
            "Fitting 5 folds for each of 80 candidates, totalling 400 fits\n",
            "Model with rank: 1\n",
            "Mean validation score: 0.767 (std: 0.015)\n",
            "Parameters: {'C': 100, 'gamma': 1, 'kernel': 'rbf'}\n",
            "\n",
            "Model with rank: 2\n",
            "Mean validation score: 0.766 (std: 0.017)\n",
            "Parameters: {'C': 10, 'gamma': 1, 'kernel': 'rbf'}\n",
            "\n",
            "Model with rank: 3\n",
            "Mean validation score: 0.737 (std: 0.024)\n",
            "Parameters: {'C': 100, 'gamma': 0.1, 'kernel': 'rbf'}\n",
            "\n",
            "Model with rank: 4\n",
            "Mean validation score: 0.717 (std: 0.003)\n",
            "Parameters: {'C': 1, 'gamma': 1, 'kernel': 'rbf'}\n",
            "\n",
            "Model with rank: 5\n",
            "Mean validation score: 0.679 (std: 0.016)\n",
            "Parameters: {'C': 10, 'gamma': 1, 'kernel': 'sigmoid'}\n",
            "\n"
          ]
        }
      ],
      "source": [
        "from sklearn.svm import SVC\n",
        "from sklearn.model_selection import GridSearchCV\n",
        "from sklearn.model_selection import StratifiedKFold\n",
        "\n",
        "kfold = StratifiedKFold(5)\n",
        "\n",
        "param_grid = {'C': [0.1, 1, 10, 100], \n",
        "              'gamma': [1, 0.1, 0.01, 0.001, 0.0001],\n",
        "              'kernel': ['rbf', 'linear', 'poly', 'sigmoid']}\n",
        "\n",
        "model = SVC(random_state = 0)\n",
        "\n",
        "grid_search_models = GridSearchCV(\n",
        "    estimator = model,\n",
        "    param_grid = param_grid,\n",
        "    cv = kfold,\n",
        "    n_jobs = -1,\n",
        "    verbose = 2\n",
        ")\n",
        "\n",
        "grid_search_models.fit(X_train, Y_train)\n",
        "report(grid_search_models.cv_results_, n_top = 5)"
      ]
    },
    {
      "cell_type": "markdown",
      "metadata": {
        "id": "QAb545n608Vm"
      },
      "source": [
        "As we can see, the best model uses as parameters  {'C': 100, 'gamma': 1, 'kernel': 'rbf'}, obtaining a mean validation score of 0.767 (which is better than the default model), let us create this model:"
      ]
    },
    {
      "cell_type": "code",
      "execution_count": null,
      "metadata": {
        "id": "ZFAjpwvr0Mbb"
      },
      "outputs": [],
      "source": [
        "svm_model = SVC(random_state = 0, C = 100, gamma = 1, kernel = 'rbf')\n",
        "svm_model.fit(X_train, Y_train)\n",
        "Y_pred = svm_model.predict(X_test)"
      ]
    },
    {
      "cell_type": "markdown",
      "metadata": {
        "id": "jGsOF-nR1bOU"
      },
      "source": [
        "Let us obtain the metric results for the hyperparametrized model:"
      ]
    },
    {
      "cell_type": "code",
      "execution_count": null,
      "metadata": {
        "colab": {
          "base_uri": "https://localhost:8080/"
        },
        "id": "ceaO49Yt1XLH",
        "outputId": "117af064-1bd1-4f87-f7de-646d6d471cea"
      },
      "outputs": [
        {
          "name": "stdout",
          "output_type": "stream",
          "text": [
            "  Precision    Recall    F1 Score\n",
            "-----------  --------  ----------\n",
            "       0.74      0.74        0.74\n"
          ]
        }
      ],
      "source": [
        "f1_val = f1_score(Y_test, Y_pred, average = 'micro')\n",
        "acc_val = precision_score(Y_test, Y_pred, average = 'micro')\n",
        "recall_val = recall_score(Y_test, Y_pred, average = 'micro')\n",
        "\n",
        "print(tabulate([[acc_val, recall_val, f1_val]], headers = ['Precision', 'Recall', 'F1 Score']))"
      ]
    },
    {
      "cell_type": "markdown",
      "metadata": {
        "id": "NI6AhByV1jar"
      },
      "source": [
        "As we can see, the new model is slightly better than the default one (not too much, only a bit better).\n",
        "\n",
        "Let us take a look at its confussion matrix:"
      ]
    },
    {
      "cell_type": "code",
      "execution_count": null,
      "metadata": {
        "colab": {
          "base_uri": "https://localhost:8080/",
          "height": 315
        },
        "id": "1G5tCJYp1h1t",
        "outputId": "8b5bc725-8731-4496-89ce-10f7a7899a58"
      },
      "outputs": [
        {
          "data": {
            "text/plain": [
              "<sklearn.metrics._plot.confusion_matrix.ConfusionMatrixDisplay at 0x7f77f12855b0>"
            ]
          },
          "execution_count": 12,
          "metadata": {},
          "output_type": "execute_result"
        },
        {
          "data": {
            "image/png": "[encoded data removed]",
            "text/plain": [
              "<Figure size 432x288 with 2 Axes>"
            ]
          },
          "metadata": {},
          "output_type": "display_data"
        }
      ],
      "source": [
        "import matplotlib.pyplot as plt\n",
        "from sklearn.metrics import confusion_matrix, ConfusionMatrixDisplay\n",
        "cm = confusion_matrix(Y_test, Y_pred, labels= svm_model.classes_)\n",
        "disp = ConfusionMatrixDisplay(confusion_matrix=cm, display_labels=svm_model.classes_)\n",
        "disp.plot()"
      ]
    },
    {
      "cell_type": "markdown",
      "metadata": {
        "id": "jgMWeCW31wu0"
      },
      "source": [
        "As we can see, the new model predicts slightly worse the class 5 (192 < 195), but the other labels are predicted better, which makes this model better overall (slightly) when compared to the default one."
      ]
    },
    {
      "cell_type": "markdown",
      "metadata": {
        "id": "hA-pRi0b2Ed3"
      },
      "source": [
        "## 2.3. XGBoost"
      ]
    },
    {
      "cell_type": "markdown",
      "metadata": {
        "id": "F1P88Y0d3kIN"
      },
      "source": [
        "### 2.3.1. Default model"
      ]
    },
    {
      "cell_type": "markdown",
      "metadata": {
        "id": "y4djJ_yd2Ktw"
      },
      "source": [
        "The second model that we wanted to test is XGBoost. The main reason is that XGBoost is known because of its high performance when it comes to machine learning competitions, for instance, the machine learning competitions hosted in kaggle.\n",
        "\n",
        "We were interested in determining whether it provides high performance in NLP or not, so we wanted to give it a try.\n",
        "\n",
        "Let us create a default model (we will parametrize it later):"
      ]
    },
    {
      "cell_type": "code",
      "execution_count": null,
      "metadata": {
        "colab": {
          "base_uri": "https://localhost:8080/"
        },
        "id": "ckzfnsyn1uNq",
        "outputId": "1e8c7e76-7406-4f26-f912-2f20acc72de1"
      },
      "outputs": [
        {
          "output_type": "stream",
          "name": "stdout",
          "text": [
            "Looking in indexes: https://pypi.org/simple, https://us-python.pkg.dev/colab-wheels/public/simple/\n",
            "Requirement already satisfied: xgboost in /usr/local/lib/python3.8/dist-packages (0.90)\n",
            "Requirement already satisfied: numpy in /usr/local/lib/python3.8/dist-packages (from xgboost) (1.21.6)\n",
            "Requirement already satisfied: scipy in /usr/local/lib/python3.8/dist-packages (from xgboost) (1.7.3)\n"
          ]
        }
      ],
      "source": [
        "!pip install xgboost"
      ]
    },
    {
      "cell_type": "code",
      "execution_count": null,
      "metadata": {
        "colab": {
          "base_uri": "https://localhost:8080/"
        },
        "id": "MWIWJNhp25kU",
        "outputId": "73a6a906-484a-44db-d4db-b2f482895535"
      },
      "outputs": [
        {
          "output_type": "stream",
          "name": "stdout",
          "text": [
            "CPU times: user 2.25 s, sys: 284 ms, total: 2.54 s\n",
            "Wall time: 2.55 s\n"
          ]
        }
      ],
      "source": [
        "import time\n",
        "\n",
        "from xgboost import XGBClassifier\n",
        "from sklearn.metrics import f1_score\n",
        "\n",
        "# Creates XGBoost Classifier\n",
        "model = XGBClassifier(\n",
        "    random_state = 0,\n",
        "    tree_method = 'gpu_hist',\n",
        "    n_estimators = 64\n",
        ")\n",
        "\n",
        "%time model.fit(X_train, Y_train) # train the model\n",
        "Y_pred = model.predict(X_test)    # obtain the test predictions"
      ]
    },
    {
      "cell_type": "markdown",
      "metadata": {
        "id": "mtP9SYsW2-zY"
      },
      "source": [
        "Let us obtain the results of the default xgboost model:"
      ]
    },
    {
      "cell_type": "code",
      "execution_count": null,
      "metadata": {
        "colab": {
          "base_uri": "https://localhost:8080/"
        },
        "id": "n1NMrSD72-AU",
        "outputId": "a88550df-03f4-42eb-f5ca-0317666385b3"
      },
      "outputs": [
        {
          "name": "stdout",
          "output_type": "stream",
          "text": [
            "  Precision    Recall    F1 Score\n",
            "-----------  --------  ----------\n",
            "   0.666667  0.666667    0.666667\n"
          ]
        }
      ],
      "source": [
        "from tabulate import tabulate\n",
        "from sklearn.metrics import f1_score\n",
        "from sklearn.metrics import recall_score\n",
        "from sklearn.metrics import precision_score\n",
        "\n",
        "f1_val = f1_score(Y_test, Y_pred, average = 'micro')\n",
        "acc_val = precision_score(Y_test, Y_pred, average = 'micro')\n",
        "recall_val = recall_score(Y_test, Y_pred, average = 'micro')\n",
        "\n",
        "print(tabulate([[acc_val, recall_val, f1_val]], headers = ['Precision', 'Recall', 'F1 Score']))"
      ]
    },
    {
      "cell_type": "markdown",
      "metadata": {
        "id": "gt-V-wfb3N4_"
      },
      "source": [
        "As we can see, we obtained worse results when compared to the SVM model (0.67 compared to 0.74). Let's also show the confussion matrix:"
      ]
    },
    {
      "cell_type": "code",
      "execution_count": null,
      "metadata": {
        "colab": {
          "base_uri": "https://localhost:8080/",
          "height": 296
        },
        "id": "E2Xtm2zgFGtG",
        "outputId": "c7fb878b-7fc3-4693-a985-28731147bda2"
      },
      "outputs": [
        {
          "data": {
            "text/plain": [
              "<sklearn.metrics._plot.confusion_matrix.ConfusionMatrixDisplay at 0x7ff91d430130>"
            ]
          },
          "execution_count": 8,
          "metadata": {},
          "output_type": "execute_result"
        },
        {
          "data": {
            "image/png": "[encoded data removed]",
            "text/plain": [
              "<Figure size 432x288 with 2 Axes>"
            ]
          },
          "metadata": {},
          "output_type": "display_data"
        }
      ],
      "source": [
        "import matplotlib.pyplot as plt\n",
        "from sklearn.metrics import confusion_matrix, ConfusionMatrixDisplay\n",
        "cm = confusion_matrix(Y_test, Y_pred, labels= [1,2,3,4,5])\n",
        "disp = ConfusionMatrixDisplay(confusion_matrix=cm, display_labels=[1,2,3,4,5])\n",
        "disp.plot()"
      ]
    },
    {
      "cell_type": "markdown",
      "metadata": {
        "id": "Ggi1ZHaeFW05"
      },
      "source": [
        "As we can see, it is in fact worse than the previous model, as there are many more errors in different predicted labels.\n",
        "\n",
        "Let us try to hyperparametrize it, to see whether it can be better or not than SVM when its hyperparameters are tuned."
      ]
    },
    {
      "cell_type": "markdown",
      "metadata": {
        "id": "8fCJBlm63geY"
      },
      "source": [
        "### 2.3.2. Hyperparametrization"
      ]
    },
    {
      "cell_type": "markdown",
      "metadata": {
        "id": "LUZluKK43sSh"
      },
      "source": [
        "In this case, in order to perform the hyperparameter tuning, we will make use of RandomSearchCV (because there are many parameters with many possible values), again using stratified Kfold (to avoid the problem of unbalanced data)."
      ]
    },
    {
      "cell_type": "code",
      "execution_count": null,
      "metadata": {
        "colab": {
          "base_uri": "https://localhost:8080/"
        },
        "id": "IEcsVLRo3EBM",
        "outputId": "aa55d58d-d547-4955-fca7-58a4249ad8bb"
      },
      "outputs": [
        {
          "name": "stdout",
          "output_type": "stream",
          "text": [
            "Fitting 3 folds for each of 50 candidates, totalling 150 fits\n"
          ]
        },
        {
          "name": "stderr",
          "output_type": "stream",
          "text": [
            "/usr/local/lib/python3.8/dist-packages/joblib/externals/loky/process_executor.py:700: UserWarning: A worker stopped while some jobs were given to the executor. This can be caused by a too short worker timeout or by a memory leak.\n",
            "  warnings.warn(\n"
          ]
        },
        {
          "data": {
            "text/plain": [
              "RandomizedSearchCV(cv=StratifiedKFold(n_splits=3, random_state=None, shuffle=False),\n",
              "                   estimator=XGBClassifier(tree_method='gpu_hist'), n_iter=50,\n",
              "                   n_jobs=-1,\n",
              "                   param_distributions={'colsample_bytree': [0.6, 0.8, 1.0],\n",
              "                                        'gamma': [0, 0.1, 0.3],\n",
              "                                        'learning_rate': [0.001, 0.01, 0.1],\n",
              "                                        'max_depth': [3, 7, 9],\n",
              "                                        'n_estimators': [64, 128, 256, 512,\n",
              "                                                         1024, 2048],\n",
              "                                        'reg_lambda': [1, 1.5, 2],\n",
              "                                        'subsample': [0.5, 0.7, 1.0]},\n",
              "                   random_state=0, verbose=3)"
            ]
          },
          "execution_count": 9,
          "metadata": {},
          "output_type": "execute_result"
        }
      ],
      "source": [
        "from sklearn.model_selection import RandomizedSearchCV\n",
        "from sklearn.model_selection import StratifiedKFold\n",
        "\n",
        "\n",
        "kfold = StratifiedKFold(n_splits = 3) # To prevent unbalanced data problems\n",
        "\n",
        "model = XGBClassifier(random_state = 0, tree_method = 'gpu_hist')\n",
        "\n",
        "param_dist = {\n",
        "    \"learning_rate\": [0.001, 0.01, 0.1],\n",
        "    \"n_estimators\": [64, 128, 256, 512, 1024, 2048],\n",
        "    \"colsample_bytree\": [0.6, 0.8, 1.0],\n",
        "    \"subsample\": [0.5, 0.7, 1.0],\n",
        "    \"max_depth\": [3, 7, 9],\n",
        "    \"reg_lambda\": [1, 1.5, 2],\n",
        "    \"gamma\": [0, 0.1, 0.3],\n",
        "}\n",
        "\n",
        "random_search_models = RandomizedSearchCV(\n",
        "    estimator = model, \n",
        "    param_distributions = param_dist, \n",
        "    n_iter = 50, \n",
        "    cv = kfold, \n",
        "    random_state = 0,\n",
        "    n_jobs = -1,\n",
        "    verbose = 3\n",
        ")\n",
        "\n",
        "random_search_models.fit(X_train, Y_train)"
      ]
    },
    {
      "cell_type": "code",
      "execution_count": null,
      "metadata": {
        "colab": {
          "base_uri": "https://localhost:8080/"
        },
        "id": "8DN2vsMtxKzZ",
        "outputId": "c541a4a6-1d6a-48b0-a355-c1d0a0b010d1"
      },
      "outputs": [
        {
          "name": "stdout",
          "output_type": "stream",
          "text": [
            "Model with rank: 1\n",
            "Mean validation score: 0.654 (std: 0.003)\n",
            "Parameters: {'subsample': 1.0, 'reg_lambda': 2, 'n_estimators': 1024, 'max_depth': 9, 'learning_rate': 0.01, 'gamma': 0, 'colsample_bytree': 0.8}\n",
            "\n",
            "Model with rank: 2\n",
            "Mean validation score: 0.654 (std: 0.009)\n",
            "Parameters: {'subsample': 1.0, 'reg_lambda': 1, 'n_estimators': 1024, 'max_depth': 9, 'learning_rate': 0.01, 'gamma': 0, 'colsample_bytree': 0.6}\n",
            "\n",
            "Model with rank: 3\n",
            "Mean validation score: 0.654 (std: 0.016)\n",
            "Parameters: {'subsample': 0.5, 'reg_lambda': 2, 'n_estimators': 64, 'max_depth': 7, 'learning_rate': 0.1, 'gamma': 0.3, 'colsample_bytree': 1.0}\n",
            "\n",
            "Model with rank: 4\n",
            "Mean validation score: 0.654 (std: 0.018)\n",
            "Parameters: {'subsample': 0.5, 'reg_lambda': 1.5, 'n_estimators': 128, 'max_depth': 3, 'learning_rate': 0.1, 'gamma': 0, 'colsample_bytree': 0.8}\n",
            "\n",
            "Model with rank: 5\n",
            "Mean validation score: 0.654 (std: 0.024)\n",
            "Parameters: {'subsample': 0.5, 'reg_lambda': 1.5, 'n_estimators': 128, 'max_depth': 9, 'learning_rate': 0.1, 'gamma': 0.3, 'colsample_bytree': 1.0}\n",
            "\n"
          ]
        }
      ],
      "source": [
        "report(random_search_models.cv_results_, n_top = 5)"
      ]
    },
    {
      "cell_type": "markdown",
      "metadata": {
        "id": "Bc6iERc7ESwV"
      },
      "source": [
        "Let us build the best model after the hyperparameter tuning:"
      ]
    },
    {
      "cell_type": "code",
      "execution_count": null,
      "metadata": {
        "colab": {
          "background_save": true
        },
        "id": "B1ai5b6pxLTp"
      },
      "outputs": [],
      "source": [
        "parameters = {'subsample': 1.0, 'reg_lambda': 2, 'n_estimators': 1024, 'max_depth': 9, 'learning_rate': 0.01, 'gamma': 0, 'colsample_bytree': 0.8, 'random_state' : 0}\n",
        "xgboost_model = XGBClassifier(**parameters)\n",
        "xgboost_model.fit(X_train, Y_train)\n",
        "Y_pred = xgboost_model.predict(X_test)"
      ]
    },
    {
      "cell_type": "markdown",
      "metadata": {
        "id": "BCAGA_xSEysv"
      },
      "source": [
        "Let us obtain the scores of the model:"
      ]
    },
    {
      "cell_type": "code",
      "execution_count": null,
      "metadata": {
        "colab": {
          "background_save": true
        },
        "id": "paYO1JKGEvZ0",
        "outputId": "ce7c1fba-b0fa-4b59-ba92-e02432fc27a0"
      },
      "outputs": [
        {
          "name": "stdout",
          "output_type": "stream",
          "text": [
            "  Precision    Recall    F1 Score\n",
            "-----------  --------  ----------\n",
            "   0.673333  0.673333    0.673333\n"
          ]
        }
      ],
      "source": [
        "from tabulate import tabulate\n",
        "from sklearn.metrics import f1_score\n",
        "from sklearn.metrics import recall_score\n",
        "from sklearn.metrics import precision_score\n",
        "\n",
        "f1_val = f1_score(Y_test, Y_pred, average = 'micro')\n",
        "acc_val = precision_score(Y_test, Y_pred, average = 'micro')\n",
        "recall_val = recall_score(Y_test, Y_pred, average = 'micro')\n",
        "\n",
        "print(tabulate([[acc_val, recall_val, f1_val]], headers = ['Precision', 'Recall', 'F1 Score']))"
      ]
    },
    {
      "cell_type": "markdown",
      "metadata": {
        "id": "sR2uTA72E-zF"
      },
      "source": [
        "Let us also obtain the confussion matrix:"
      ]
    },
    {
      "cell_type": "code",
      "execution_count": null,
      "metadata": {
        "colab": {
          "background_save": true,
          "base_uri": "https://localhost:8080/",
          "height": 296
        },
        "id": "gJudiy2qE3e6",
        "outputId": "3a15a5af-eee1-48fa-9602-832ae366a6b1"
      },
      "outputs": [
        {
          "data": {
            "text/plain": [
              "<sklearn.metrics._plot.confusion_matrix.ConfusionMatrixDisplay at 0x7f7e59a0f2b0>"
            ]
          },
          "execution_count": 8,
          "metadata": {},
          "output_type": "execute_result"
        },
        {
          "data": {
            "image/png": "[encoded data removed]",
            "text/plain": [
              "<Figure size 432x288 with 2 Axes>"
            ]
          },
          "metadata": {},
          "output_type": "display_data"
        }
      ],
      "source": [
        "import matplotlib.pyplot as plt\n",
        "from sklearn.metrics import confusion_matrix, ConfusionMatrixDisplay\n",
        "cm = confusion_matrix(Y_test, Y_pred, labels= [1,2,3,4,5])\n",
        "disp = ConfusionMatrixDisplay(confusion_matrix=cm, display_labels=[1,2,3,4,5])\n",
        "disp.plot()"
      ]
    },
    {
      "cell_type": "markdown",
      "metadata": {
        "id": "rFSLE5_DdSFE"
      },
      "source": [
        "As we can see, the confussion matrix is still worse, as it makes more errors than the confussion matrix of the tuned SVM model, so we can conclude that the best model for the TF-IDF is SVM."
      ]
    },
    {
      "cell_type": "markdown",
      "metadata": {
        "id": "xl0zAiXsdfo5"
      },
      "source": [
        "# 3. TF-IDF with n-grams"
      ]
    },
    {
      "cell_type": "markdown",
      "metadata": {
        "id": "tpEAAcl-dhfv"
      },
      "source": [
        "Not only we applied vectorization with TF-IDF, but we also used ngrams to see whether it was better or worse.\n",
        "\n",
        "Let us create the same models with this new data."
      ]
    },
    {
      "cell_type": "markdown",
      "metadata": {
        "id": "sHKDeXc_dsPj"
      },
      "source": [
        "## 3.1. Loading the data"
      ]
    },
    {
      "cell_type": "markdown",
      "metadata": {
        "id": "1smkHYcDdx1R"
      },
      "source": [
        "The first step will be to load the data that we obtained in the previous google colab. To do so, upload the file called `tfidf_ngrams.csv` to the content directory of this google colab environment.\n",
        "\n",
        "Once that has been done, we can load the dataframe:"
      ]
    },
    {
      "cell_type": "code",
      "execution_count": null,
      "metadata": {
        "colab": {
          "base_uri": "https://localhost:8080/"
        },
        "id": "Hj4Zx75wdhJF",
        "outputId": "4cc3648f-e298-46a0-eabc-c472e59d2bce"
      },
      "outputs": [
        {
          "output_type": "stream",
          "name": "stdout",
          "text": [
            "--2023-01-10 09:17:32--  https://raw.githubusercontent.com/schmidt-marvin/ESI_2022_TecAA/main/task03/intermediate_files/tfidf_ngrams_2.csv\n",
            "Resolving raw.githubusercontent.com (raw.githubusercontent.com)... 185.199.108.133, 185.199.109.133, 185.199.110.133, ...\n",
            "Connecting to raw.githubusercontent.com (raw.githubusercontent.com)|185.199.108.133|:443... connected.\n",
            "HTTP request sent, awaiting response... 200 OK\n",
            "Length: 52238996 (50M) [text/plain]\n",
            "Saving to: ‘tfidf_ngrams_2.csv’\n",
            "\n",
            "tfidf_ngrams_2.csv  100%[===================>]  49.82M   215MB/s    in 0.2s    \n",
            "\n",
            "2023-01-10 09:17:36 (215 MB/s) - ‘tfidf_ngrams_2.csv’ saved [52238996/52238996]\n",
            "\n"
          ]
        }
      ],
      "source": [
        "import pandas as pd\n",
        "\n",
        "!wget 'https://raw.githubusercontent.com/schmidt-marvin/ESI_2022_TecAA/main/task03/intermediate_files/tfidf_ngrams_2.csv'\n",
        "df_full = pd.read_csv('tfidf_ngrams_2.csv', index_col = 'Unnamed: 0')"
      ]
    },
    {
      "cell_type": "markdown",
      "metadata": {
        "id": "Zt6gNaE_d8gO"
      },
      "source": [
        "Let us take a look at the data, to see whether it is balanced or not:"
      ]
    },
    {
      "cell_type": "code",
      "execution_count": null,
      "metadata": {
        "colab": {
          "base_uri": "https://localhost:8080/",
          "height": 305
        },
        "id": "xUGaPEWQd-bo",
        "outputId": "c50ee5ae-f386-4584-cb37-8203cff7940e"
      },
      "outputs": [
        {
          "output_type": "execute_result",
          "data": {
            "text/plain": [
              "<matplotlib.axes._subplots.AxesSubplot at 0x7f867e0148b0>"
            ]
          },
          "metadata": {},
          "execution_count": 2
        },
        {
          "output_type": "display_data",
          "data": {
            "text/plain": [
              "<Figure size 432x288 with 1 Axes>"
            ],
            "image/png": "[encoded data removed]"
          },
          "metadata": {
            "needs_background": "light"
          }
        }
      ],
      "source": [
        "df_full[['score']].value_counts().plot(kind = 'bar')"
      ]
    },
    {
      "cell_type": "markdown",
      "metadata": {
        "id": "xr9JLHX7d8ex"
      },
      "source": [
        "As we can see, we again have unbalanced data. To prevent unbalanced data problems, we will make use of stratified kfold (some other strategies such as oversampling or undersampling could also be used, but we will only use the stratified kfold)."
      ]
    },
    {
      "cell_type": "markdown",
      "metadata": {
        "id": "w1OukK1ceJRG"
      },
      "source": [
        "Let us split the data into train and test. A 70% train and 30% test distribution is required, so let us specify those arguments in the train_test_split function of sklearn:"
      ]
    },
    {
      "cell_type": "code",
      "execution_count": null,
      "metadata": {
        "id": "a1FuCzlUeGh8"
      },
      "outputs": [],
      "source": [
        "from sklearn.model_selection import train_test_split\n",
        "\n",
        "X_train, X_test, Y_train, Y_test = train_test_split(df_full.drop(columns = ['score']), df_full.score, random_state = 1, train_size = 0.7)"
      ]
    },
    {
      "cell_type": "markdown",
      "metadata": {
        "id": "7vRgF4w4N2-d"
      },
      "source": [
        "## 3.2. SVM"
      ]
    },
    {
      "cell_type": "markdown",
      "metadata": {
        "id": "oHN0voN7N9_Q"
      },
      "source": [
        "### 3.2.1. Default model"
      ]
    },
    {
      "cell_type": "markdown",
      "metadata": {
        "id": "k1DtacetN9bt"
      },
      "source": [
        "The first model that we will try is support vector machines (SVM), in this case, we will try a support vector classifier (SVC), because we have a classification problem. Let us create a default model to obtain an initial result:"
      ]
    },
    {
      "cell_type": "code",
      "execution_count": null,
      "metadata": {
        "id": "YivZ4kIJOC_Z"
      },
      "outputs": [],
      "source": [
        "from sklearn.svm import SVC\n",
        "from sklearn.metrics import f1_score\n",
        "from sklearn.metrics import recall_score\n",
        "from sklearn.metrics import precision_score\n",
        "\n",
        "svm_model = SVC(random_state = 0)\n",
        "svm_model.fit(X_train, Y_train)\n",
        "Y_pred = svm_model.predict(X_test)"
      ]
    },
    {
      "cell_type": "markdown",
      "metadata": {
        "id": "1aocWiXPOHHX"
      },
      "source": [
        "Let us obtain the results for the default model:"
      ]
    },
    {
      "cell_type": "code",
      "execution_count": null,
      "metadata": {
        "colab": {
          "base_uri": "https://localhost:8080/"
        },
        "id": "UlBUJXmOOGrC",
        "outputId": "4b46b67a-2441-4c49-8273-e3cdf5f81d46"
      },
      "outputs": [
        {
          "name": "stdout",
          "output_type": "stream",
          "text": [
            "Looking in indexes: https://pypi.org/simple, https://us-python.pkg.dev/colab-wheels/public/simple/\n",
            "Requirement already satisfied: tabulate in /usr/local/lib/python3.8/dist-packages (0.8.10)\n"
          ]
        }
      ],
      "source": [
        "!pip install tabulate"
      ]
    },
    {
      "cell_type": "code",
      "execution_count": null,
      "metadata": {
        "colab": {
          "base_uri": "https://localhost:8080/"
        },
        "id": "vXTjcR5pOLMT",
        "outputId": "a3448695-158b-49f2-986e-8ac8079a7882"
      },
      "outputs": [
        {
          "name": "stdout",
          "output_type": "stream",
          "text": [
            "  Precision    Recall    F1 Score\n",
            "-----------  --------  ----------\n",
            "        0.8       0.8         0.8\n"
          ]
        }
      ],
      "source": [
        "from tabulate import tabulate\n",
        "\n",
        "f1_val = f1_score(Y_test, Y_pred, average = 'micro')\n",
        "acc_val = precision_score(Y_test, Y_pred, average = 'micro')\n",
        "recall_val = recall_score(Y_test, Y_pred, average = 'micro')\n",
        "\n",
        "print(tabulate([[acc_val, recall_val, f1_val]], headers = ['Precision', 'Recall', 'F1 Score']))"
      ]
    },
    {
      "cell_type": "markdown",
      "metadata": {
        "id": "q-AVVsV_OS3F"
      },
      "source": [
        "As we can see, we obtained better results when compared to the previous vectorization (without ngrams). Let us see the confussion matrix as well:\n"
      ]
    },
    {
      "cell_type": "code",
      "execution_count": null,
      "metadata": {
        "colab": {
          "base_uri": "https://localhost:8080/",
          "height": 300
        },
        "id": "7s1QyP8mOb0w",
        "outputId": "e12fb22b-0180-4a90-e380-67060ffbc8a2"
      },
      "outputs": [
        {
          "data": {
            "text/plain": [
              "<sklearn.metrics._plot.confusion_matrix.ConfusionMatrixDisplay at 0x7f006af001f0>"
            ]
          },
          "execution_count": 13,
          "metadata": {},
          "output_type": "execute_result"
        },
        {
          "data": {
            "image/png": "[encoded data removed]",
            "text/plain": [
              "<Figure size 432x288 with 2 Axes>"
            ]
          },
          "metadata": {},
          "output_type": "display_data"
        }
      ],
      "source": [
        "import matplotlib.pyplot as plt\n",
        "from sklearn.metrics import confusion_matrix, ConfusionMatrixDisplay\n",
        "cm = confusion_matrix(Y_test, Y_pred, labels= svm_model.classes_)\n",
        "disp = ConfusionMatrixDisplay(confusion_matrix=cm, display_labels=svm_model.classes_)\n",
        "disp.plot()"
      ]
    },
    {
      "cell_type": "markdown",
      "metadata": {
        "id": "syWCMBxwOf0w"
      },
      "source": [
        "As we can see, our model does not only predict the label 5 with really high accuracy, but it also predicts the other labes decently (better than the previous models). Let us hyperparametrize it to improve the results."
      ]
    },
    {
      "cell_type": "markdown",
      "metadata": {
        "id": "eD_qCbYsOuLM"
      },
      "source": [
        "### 3.2.2. Hyperparametrization"
      ]
    },
    {
      "cell_type": "markdown",
      "metadata": {
        "id": "POsDR6R_Oxi8"
      },
      "source": [
        "For the SVC hyperparametrization, we will make use of GridSearchCV (using sklearn), using the stratified kfold (to prevent problems due to unbalanced data)."
      ]
    },
    {
      "cell_type": "code",
      "execution_count": null,
      "metadata": {
        "colab": {
          "base_uri": "https://localhost:8080/"
        },
        "id": "9YPvWDDSOvI4",
        "outputId": "daf61430-ccc6-408e-fdd0-a22c25017167"
      },
      "outputs": [
        {
          "name": "stdout",
          "output_type": "stream",
          "text": [
            "Fitting 5 folds for each of 80 candidates, totalling 400 fits\n",
            "Model with rank: 1\n",
            "Mean validation score: 0.817 (std: 0.013)\n",
            "Parameters: {'C': 10, 'gamma': 1, 'kernel': 'rbf'}\n",
            "\n",
            "Model with rank: 1\n",
            "Mean validation score: 0.817 (std: 0.013)\n",
            "Parameters: {'C': 100, 'gamma': 1, 'kernel': 'rbf'}\n",
            "\n",
            "Model with rank: 3\n",
            "Mean validation score: 0.783 (std: 0.012)\n",
            "Parameters: {'C': 100, 'gamma': 0.1, 'kernel': 'rbf'}\n",
            "\n",
            "Model with rank: 4\n",
            "Mean validation score: 0.776 (std: 0.021)\n",
            "Parameters: {'C': 1, 'gamma': 1, 'kernel': 'rbf'}\n",
            "\n",
            "Model with rank: 5\n",
            "Mean validation score: 0.771 (std: 0.014)\n",
            "Parameters: {'C': 10, 'gamma': 0.1, 'kernel': 'rbf'}\n",
            "\n"
          ]
        }
      ],
      "source": [
        "from sklearn.svm import SVC\n",
        "from sklearn.model_selection import GridSearchCV\n",
        "from sklearn.model_selection import StratifiedKFold\n",
        "\n",
        "kfold = StratifiedKFold(5)\n",
        "\n",
        "param_grid = {'C': [0.1, 1, 10, 100], \n",
        "              'gamma': [1, 0.1, 0.01, 0.001, 0.0001],\n",
        "              'kernel': ['rbf', 'linear', 'poly', 'sigmoid']}\n",
        "\n",
        "model = SVC(random_state = 0)\n",
        "\n",
        "grid_search_models = GridSearchCV(\n",
        "    estimator = model,\n",
        "    param_grid = param_grid,\n",
        "    cv = kfold,\n",
        "    n_jobs = -1,\n",
        "    verbose = 2\n",
        ")\n",
        "\n",
        "grid_search_models.fit(X_train, Y_train)\n",
        "report(grid_search_models.cv_results_, n_top = 5)"
      ]
    },
    {
      "cell_type": "markdown",
      "metadata": {
        "id": "fYh3liBlO83c"
      },
      "source": [
        "Let us build the best model:"
      ]
    },
    {
      "cell_type": "code",
      "execution_count": null,
      "metadata": {
        "id": "NyQAT2A_O998"
      },
      "outputs": [],
      "source": [
        "parameters = {'C': 10, 'gamma': 1, 'kernel': 'rbf', 'random_state' : 0}\n",
        "\n",
        "svm_model = SVC(**parameters)\n",
        "svm_model.fit(X_train, Y_train)\n",
        "Y_pred = svm_model.predict(X_test)"
      ]
    },
    {
      "cell_type": "markdown",
      "metadata": {
        "id": "Jd7eYdGYO-4r"
      },
      "source": [
        "Let's obtain the results with this new model:"
      ]
    },
    {
      "cell_type": "code",
      "execution_count": null,
      "metadata": {
        "colab": {
          "base_uri": "https://localhost:8080/"
        },
        "id": "ALgai__dPALn",
        "outputId": "83173c78-cf82-4a94-c136-ba4f00fec5fa"
      },
      "outputs": [
        {
          "name": "stdout",
          "output_type": "stream",
          "text": [
            "  Precision    Recall    F1 Score\n",
            "-----------  --------  ----------\n",
            "   0.826667  0.826667    0.826667\n"
          ]
        }
      ],
      "source": [
        "from tabulate import tabulate\n",
        "\n",
        "f1_val = f1_score(Y_test, Y_pred, average = 'micro')\n",
        "acc_val = precision_score(Y_test, Y_pred, average = 'micro')\n",
        "recall_val = recall_score(Y_test, Y_pred, average = 'micro')\n",
        "\n",
        "print(tabulate([[acc_val, recall_val, f1_val]], headers = ['Precision', 'Recall', 'F1 Score']))"
      ]
    },
    {
      "cell_type": "markdown",
      "metadata": {
        "id": "oGsUEu_gTboM"
      },
      "source": [
        "As we can see, we improved the results quite a bit by only performing parameter tuning."
      ]
    },
    {
      "cell_type": "markdown",
      "metadata": {
        "id": "lsiCdCNIPC8y"
      },
      "source": [
        "Let us also obtain its confussion matrix:"
      ]
    },
    {
      "cell_type": "code",
      "execution_count": null,
      "metadata": {
        "colab": {
          "base_uri": "https://localhost:8080/",
          "height": 300
        },
        "id": "BzsgG33mPIMk",
        "outputId": "94fe6f9e-2f10-4327-e00f-d5dced8b16d4"
      },
      "outputs": [
        {
          "data": {
            "text/plain": [
              "<sklearn.metrics._plot.confusion_matrix.ConfusionMatrixDisplay at 0x7f007d742c70>"
            ]
          },
          "execution_count": 20,
          "metadata": {},
          "output_type": "execute_result"
        },
        {
          "data": {
            "image/png": "[encoded data removed]",
            "text/plain": [
              "<Figure size 432x288 with 2 Axes>"
            ]
          },
          "metadata": {},
          "output_type": "display_data"
        }
      ],
      "source": [
        "import matplotlib.pyplot as plt\n",
        "from sklearn.metrics import confusion_matrix, ConfusionMatrixDisplay\n",
        "cm = confusion_matrix(Y_test, Y_pred, labels= svm_model.classes_)\n",
        "disp = ConfusionMatrixDisplay(confusion_matrix=cm, display_labels=svm_model.classes_)\n",
        "disp.plot()"
      ]
    },
    {
      "cell_type": "markdown",
      "metadata": {
        "id": "bjYEbF45TiCk"
      },
      "source": [
        "As we can see, now our model predicts even better those other labels different than 5 (less errors in the unbalanced classes), so this model is actually really good (currently the best)."
      ]
    },
    {
      "cell_type": "markdown",
      "metadata": {
        "id": "s6V7LSVDnAF0"
      },
      "source": [
        "## 3.3. XGBoost"
      ]
    },
    {
      "cell_type": "markdown",
      "metadata": {
        "id": "HQCxoRFHnDvo"
      },
      "source": [
        "Let us obtain the results using XGBoost to establish the same comparison."
      ]
    },
    {
      "cell_type": "markdown",
      "metadata": {
        "id": "oS6HBbjNnL3G"
      },
      "source": [
        "### 3.3.1. Default model"
      ]
    },
    {
      "cell_type": "markdown",
      "metadata": {
        "id": "beXU2ZMjnQ1a"
      },
      "source": [
        "Let us create a default model (we will parametrize it later):"
      ]
    },
    {
      "cell_type": "code",
      "execution_count": null,
      "metadata": {
        "colab": {
          "base_uri": "https://localhost:8080/"
        },
        "id": "zLJIEKP_m4nU",
        "outputId": "ad22c0dc-5dff-4cb8-fb63-f15946becf5c"
      },
      "outputs": [
        {
          "output_type": "stream",
          "name": "stdout",
          "text": [
            "Looking in indexes: https://pypi.org/simple, https://us-python.pkg.dev/colab-wheels/public/simple/\n",
            "Requirement already satisfied: xgboost in /usr/local/lib/python3.8/dist-packages (0.90)\n",
            "Requirement already satisfied: numpy in /usr/local/lib/python3.8/dist-packages (from xgboost) (1.21.6)\n",
            "Requirement already satisfied: scipy in /usr/local/lib/python3.8/dist-packages (from xgboost) (1.7.3)\n"
          ]
        }
      ],
      "source": [
        "!pip install xgboost"
      ]
    },
    {
      "cell_type": "code",
      "execution_count": null,
      "metadata": {
        "colab": {
          "base_uri": "https://localhost:8080/"
        },
        "id": "HvvSmqmtnTFy",
        "outputId": "a5e11862-e455-42f6-bf90-32f03d7c6510"
      },
      "outputs": [
        {
          "output_type": "stream",
          "name": "stdout",
          "text": [
            "CPU times: user 7.96 s, sys: 2.84 s, total: 10.8 s\n",
            "Wall time: 14.7 s\n"
          ]
        }
      ],
      "source": [
        "import time\n",
        "\n",
        "from xgboost import XGBClassifier\n",
        "from sklearn.metrics import f1_score\n",
        "\n",
        "# Creates XGBoost Classifier\n",
        "model = XGBClassifier(\n",
        "    random_state = 0,\n",
        "    tree_method = 'gpu_hist',\n",
        "    n_estimators = 64\n",
        ")\n",
        "\n",
        "%time model.fit(X_train, Y_train) # train the model\n",
        "Y_pred = model.predict(X_test)    # obtain the test predictions"
      ]
    },
    {
      "cell_type": "markdown",
      "metadata": {
        "id": "wgbZBTHpnghB"
      },
      "source": [
        "Let us obtain the results of the default xgboost model:"
      ]
    },
    {
      "cell_type": "code",
      "execution_count": null,
      "metadata": {
        "colab": {
          "base_uri": "https://localhost:8080/"
        },
        "id": "0LFFY2iZnUxf",
        "outputId": "f60deaac-684c-4c86-d590-312fb3fcae72"
      },
      "outputs": [
        {
          "output_type": "stream",
          "name": "stdout",
          "text": [
            "  Precision    Recall    F1 Score\n",
            "-----------  --------  ----------\n",
            "       0.66      0.66        0.66\n"
          ]
        }
      ],
      "source": [
        "from tabulate import tabulate\n",
        "from sklearn.metrics import f1_score\n",
        "from sklearn.metrics import recall_score\n",
        "from sklearn.metrics import precision_score\n",
        "\n",
        "f1_val = f1_score(Y_test, Y_pred, average = 'micro')\n",
        "acc_val = precision_score(Y_test, Y_pred, average = 'micro')\n",
        "recall_val = recall_score(Y_test, Y_pred, average = 'micro')\n",
        "\n",
        "print(tabulate([[acc_val, recall_val, f1_val]], headers = ['Precision', 'Recall', 'F1 Score']))"
      ]
    },
    {
      "cell_type": "markdown",
      "metadata": {
        "id": "8SWr8ORNnl0A"
      },
      "source": [
        "As we can see, we obtained even worse results compared to TF-IDF itself, let us also see the confussion matrix:"
      ]
    },
    {
      "cell_type": "code",
      "execution_count": null,
      "metadata": {
        "colab": {
          "base_uri": "https://localhost:8080/",
          "height": 314
        },
        "id": "P1mhp9henlYu",
        "outputId": "955b6042-1106-4ec3-bd7d-1287d78c32cd"
      },
      "outputs": [
        {
          "output_type": "execute_result",
          "data": {
            "text/plain": [
              "<sklearn.metrics._plot.confusion_matrix.ConfusionMatrixDisplay at 0x7fac6f5ebb20>"
            ]
          },
          "metadata": {},
          "execution_count": 8
        },
        {
          "output_type": "display_data",
          "data": {
            "text/plain": [
              "<Figure size 432x288 with 2 Axes>"
            ],
            "image/png": "[encoded data removed]"
          },
          "metadata": {
            "needs_background": "light"
          }
        }
      ],
      "source": [
        "import matplotlib.pyplot as plt\n",
        "from sklearn.metrics import confusion_matrix, ConfusionMatrixDisplay\n",
        "cm = confusion_matrix(Y_test, Y_pred, labels= [1,2,3,4,5])\n",
        "disp = ConfusionMatrixDisplay(confusion_matrix=cm, display_labels=[1,2,3,4,5])\n",
        "disp.plot()"
      ]
    },
    {
      "cell_type": "markdown",
      "metadata": {
        "id": "nwFBeOBmnwzI"
      },
      "source": [
        "As we can see in the confussion matrix, this model works better for predicting the 5th label, but it makes more mistakes in other labels (it tends to predict everything as 5)"
      ]
    },
    {
      "cell_type": "markdown",
      "metadata": {
        "id": "WFXHQyMvn7Lr"
      },
      "source": [
        "### 3.3.2. Hyperparametrization"
      ]
    },
    {
      "cell_type": "markdown",
      "metadata": {
        "id": "vkS2gK1ioEad"
      },
      "source": [
        "In this case, in order to perform the hyperparameter tuning, we will make use of RandomSearchCV (because there are many parameters with many possible values), again using stratified Kfold (to avoid the problem of unbalanced data)."
      ]
    },
    {
      "cell_type": "code",
      "execution_count": null,
      "metadata": {
        "colab": {
          "base_uri": "https://localhost:8080/"
        },
        "id": "_Ir8YyTFoEDB",
        "outputId": "c8bafabf-730c-4027-cea4-bc2dc89454b4"
      },
      "outputs": [
        {
          "output_type": "stream",
          "name": "stdout",
          "text": [
            "Fitting 3 folds for each of 50 candidates, totalling 150 fits\n"
          ]
        },
        {
          "output_type": "stream",
          "name": "stderr",
          "text": [
            "/usr/local/lib/python3.8/dist-packages/joblib/externals/loky/process_executor.py:700: UserWarning: A worker stopped while some jobs were given to the executor. This can be caused by a too short worker timeout or by a memory leak.\n",
            "  warnings.warn(\n"
          ]
        },
        {
          "output_type": "execute_result",
          "data": {
            "text/plain": [
              "RandomizedSearchCV(cv=StratifiedKFold(n_splits=3, random_state=None, shuffle=False),\n",
              "                   estimator=XGBClassifier(tree_method='gpu_hist'), n_iter=50,\n",
              "                   n_jobs=-1,\n",
              "                   param_distributions={'colsample_bytree': [0.6, 0.8, 1.0],\n",
              "                                        'gamma': [0, 0.1, 0.3],\n",
              "                                        'learning_rate': [0.001, 0.01, 0.1],\n",
              "                                        'max_depth': [3, 7, 9],\n",
              "                                        'n_estimators': [64, 128, 256, 512,\n",
              "                                                         1024, 2048],\n",
              "                                        'reg_lambda': [1, 1.5, 2],\n",
              "                                        'subsample': [0.5, 0.7, 1.0]},\n",
              "                   random_state=0, verbose=3)"
            ]
          },
          "metadata": {},
          "execution_count": 9
        }
      ],
      "source": [
        "from xgboost import XGBClassifier\n",
        "from sklearn.model_selection import RandomizedSearchCV\n",
        "from sklearn.model_selection import StratifiedKFold\n",
        "\n",
        "\n",
        "kfold = StratifiedKFold(n_splits = 3) # To prevent unbalanced data problems\n",
        "\n",
        "model = XGBClassifier(random_state = 0, tree_method = 'gpu_hist')\n",
        "\n",
        "param_dist = {\n",
        "    \"learning_rate\": [0.001, 0.01, 0.1],\n",
        "    \"n_estimators\": [64, 128, 256, 512, 1024, 2048],\n",
        "    \"colsample_bytree\": [0.6, 0.8, 1.0],\n",
        "    \"subsample\": [0.5, 0.7, 1.0],\n",
        "    \"max_depth\": [3, 7, 9],\n",
        "    \"reg_lambda\": [1, 1.5, 2],\n",
        "    \"gamma\": [0, 0.1, 0.3],\n",
        "}\n",
        "\n",
        "random_search_models = RandomizedSearchCV(\n",
        "    estimator = model, \n",
        "    param_distributions = param_dist, \n",
        "    n_iter = 50, \n",
        "    cv = kfold, \n",
        "    random_state = 0,\n",
        "    n_jobs = -1,\n",
        "    verbose = 3\n",
        ")\n",
        "\n",
        "random_search_models.fit(X_train, Y_train)"
      ]
    },
    {
      "cell_type": "code",
      "execution_count": null,
      "metadata": {
        "id": "jDcxJjoiniR_",
        "colab": {
          "base_uri": "https://localhost:8080/"
        },
        "outputId": "68207122-4529-41b8-e4da-0656da8c9e5b"
      },
      "outputs": [
        {
          "output_type": "stream",
          "name": "stdout",
          "text": [
            "Model with rank: 1\n",
            "Mean validation score: 0.660 (std: 0.012)\n",
            "Parameters: {'subsample': 0.5, 'reg_lambda': 2, 'n_estimators': 64, 'max_depth': 7, 'learning_rate': 0.1, 'gamma': 0.3, 'colsample_bytree': 1.0}\n",
            "\n",
            "Model with rank: 2\n",
            "Mean validation score: 0.660 (std: 0.011)\n",
            "Parameters: {'subsample': 0.5, 'reg_lambda': 1.5, 'n_estimators': 128, 'max_depth': 3, 'learning_rate': 0.1, 'gamma': 0, 'colsample_bytree': 0.8}\n",
            "\n",
            "Model with rank: 3\n",
            "Mean validation score: 0.659 (std: 0.020)\n",
            "Parameters: {'subsample': 0.5, 'reg_lambda': 1.5, 'n_estimators': 128, 'max_depth': 9, 'learning_rate': 0.1, 'gamma': 0.3, 'colsample_bytree': 1.0}\n",
            "\n",
            "Model with rank: 4\n",
            "Mean validation score: 0.656 (std: 0.022)\n",
            "Parameters: {'subsample': 0.7, 'reg_lambda': 1.5, 'n_estimators': 256, 'max_depth': 9, 'learning_rate': 0.1, 'gamma': 0, 'colsample_bytree': 1.0}\n",
            "\n",
            "Model with rank: 5\n",
            "Mean validation score: 0.651 (std: 0.008)\n",
            "Parameters: {'subsample': 1.0, 'reg_lambda': 1.5, 'n_estimators': 128, 'max_depth': 3, 'learning_rate': 0.1, 'gamma': 0, 'colsample_bytree': 1.0}\n",
            "\n"
          ]
        }
      ],
      "source": [
        "report(random_search_models.cv_results_, n_top = 5)"
      ]
    },
    {
      "cell_type": "markdown",
      "metadata": {
        "id": "XdDKgkgOoNF9"
      },
      "source": [
        "Let us build the best model after the hyperparameter tuning:"
      ]
    },
    {
      "cell_type": "code",
      "execution_count": null,
      "metadata": {
        "id": "HheMo0FOoKww"
      },
      "outputs": [],
      "source": [
        "parameters = {'subsample': 0.5, 'reg_lambda': 2, 'n_estimators': 64, 'max_depth': 7, 'learning_rate': 0.1, 'gamma': 0.3, 'colsample_bytree': 1.0, 'random_state' : 0}\n",
        "\n",
        "model = XGBClassifier(**parameters)\n",
        "model.fit(X_train, Y_train)\n",
        "Y_pred = model.predict(X_test)"
      ]
    },
    {
      "cell_type": "markdown",
      "source": [
        "Let's obtain the results of the tuned xgboost model:"
      ],
      "metadata": {
        "id": "iWeJAShz0-iG"
      }
    },
    {
      "cell_type": "code",
      "source": [
        "from tabulate import tabulate\n",
        "from sklearn.metrics import f1_score\n",
        "from sklearn.metrics import recall_score\n",
        "from sklearn.metrics import precision_score\n",
        "\n",
        "f1_val = f1_score(Y_test, Y_pred, average = 'micro')\n",
        "acc_val = precision_score(Y_test, Y_pred, average = 'micro')\n",
        "recall_val = recall_score(Y_test, Y_pred, average = 'micro')\n",
        "\n",
        "print(tabulate([[acc_val, recall_val, f1_val]], headers = ['Precision', 'Recall', 'F1 Score']))"
      ],
      "metadata": {
        "colab": {
          "base_uri": "https://localhost:8080/"
        },
        "id": "ALoqqmZF06mL",
        "outputId": "cbbad7e3-b6fb-41ad-83a2-a4aac2af8346"
      },
      "execution_count": null,
      "outputs": [
        {
          "output_type": "stream",
          "name": "stdout",
          "text": [
            "  Precision    Recall    F1 Score\n",
            "-----------  --------  ----------\n",
            "       0.67      0.67        0.67\n"
          ]
        }
      ]
    },
    {
      "cell_type": "markdown",
      "source": [
        "As we can see, it is slightly better than the default model, however, it is much worse when compared to the SVM model. Let us confirm it by showing the confussion matrix:"
      ],
      "metadata": {
        "id": "ycVhtqN51GrJ"
      }
    },
    {
      "cell_type": "code",
      "source": [
        "import matplotlib.pyplot as plt\n",
        "from sklearn.metrics import confusion_matrix, ConfusionMatrixDisplay\n",
        "cm = confusion_matrix(Y_test, Y_pred, labels= [1,2,3,4,5])\n",
        "disp = ConfusionMatrixDisplay(confusion_matrix=cm, display_labels=[1,2,3,4,5])\n",
        "disp.plot()"
      ],
      "metadata": {
        "colab": {
          "base_uri": "https://localhost:8080/",
          "height": 314
        },
        "id": "CQCX6CAD1Bsw",
        "outputId": "7076080d-2fc8-453f-bc6c-031abd05f4fc"
      },
      "execution_count": null,
      "outputs": [
        {
          "output_type": "execute_result",
          "data": {
            "text/plain": [
              "<sklearn.metrics._plot.confusion_matrix.ConfusionMatrixDisplay at 0x7fac6cf4d9a0>"
            ]
          },
          "metadata": {},
          "execution_count": 17
        },
        {
          "output_type": "display_data",
          "data": {
            "text/plain": [
              "<Figure size 432x288 with 2 Axes>"
            ],
            "image/png": "[encoded data removed]"
          },
          "metadata": {
            "needs_background": "light"
          }
        }
      ]
    },
    {
      "cell_type": "markdown",
      "source": [
        "As it was mentioned above, XGBoost on the TF-IDF with n-grams does not improve (it is actually worse) the TF-IDF version using XGBoost.\n",
        "\n",
        "Furthermore, it is still much worse when compared to SVM. The SVM model of TF-IDF with n-grams is currently the best model."
      ],
      "metadata": {
        "id": "-KIKJZbX1Vns"
      }
    },
    {
      "cell_type": "markdown",
      "source": [
        "# 4. TF-IDF n-grams with pos tagging"
      ],
      "metadata": {
        "id": "JDbNQ-usacHy"
      }
    },
    {
      "cell_type": "markdown",
      "source": [
        "The next models that we have to create are related to TF-IDF with n-grams (2 only) and pos tagging. We will follow the same procedure as in the previous ones."
      ],
      "metadata": {
        "id": "TrVCkvPsajfT"
      }
    },
    {
      "cell_type": "markdown",
      "source": [
        "## 4.1. Loading the data"
      ],
      "metadata": {
        "id": "-ye9Q3VFa66G"
      }
    },
    {
      "cell_type": "code",
      "source": [
        "import pandas as pd\n",
        "\n",
        "!wget 'https://raw.githubusercontent.com/schmidt-marvin/ESI_2022_TecAA/main/task03/intermediate_files/tfidf_ngrams_postag.csv'\n",
        "\n",
        "df_full = pd.read_csv('tfidf_ngrams_postag.csv', index_col = 'Unnamed: 0')"
      ],
      "metadata": {
        "colab": {
          "base_uri": "https://localhost:8080/"
        },
        "id": "uCHLfAI0afZ4",
        "outputId": "af780b48-df91-4360-fe99-d45b513c1b51"
      },
      "execution_count": null,
      "outputs": [
        {
          "output_type": "stream",
          "name": "stdout",
          "text": [
            "--2023-01-11 09:25:08--  https://raw.githubusercontent.com/schmidt-marvin/ESI_2022_TecAA/main/task03/intermediate_files/tfidf_ngrams_postag.csv\n",
            "Resolving raw.githubusercontent.com (raw.githubusercontent.com)... 185.199.108.133, 185.199.109.133, 185.199.110.133, ...\n",
            "Connecting to raw.githubusercontent.com (raw.githubusercontent.com)|185.199.108.133|:443... connected.\n",
            "HTTP request sent, awaiting response... 200 OK\n",
            "Length: 52243848 (50M) [text/plain]\n",
            "Saving to: ‘tfidf_ngrams_postag.csv’\n",
            "\n",
            "tfidf_ngrams_postag 100%[===================>]  49.82M   155MB/s    in 0.3s    \n",
            "\n",
            "2023-01-11 09:25:09 (155 MB/s) - ‘tfidf_ngrams_postag.csv’ saved [52243848/52243848]\n",
            "\n"
          ]
        }
      ]
    },
    {
      "cell_type": "markdown",
      "source": [
        "Let us take a look at the data, to see whether it is balanced or not:"
      ],
      "metadata": {
        "id": "GUFeNf2McUD0"
      }
    },
    {
      "cell_type": "code",
      "source": [
        "df_full[['score']].value_counts().plot(kind = 'bar')"
      ],
      "metadata": {
        "colab": {
          "base_uri": "https://localhost:8080/",
          "height": 305
        },
        "id": "b4-e54PecpUE",
        "outputId": "0ba90ac3-2ba2-499d-a661-1045dde2231b"
      },
      "execution_count": null,
      "outputs": [
        {
          "output_type": "execute_result",
          "data": {
            "text/plain": [
              "<matplotlib.axes._subplots.AxesSubplot at 0x7f6f6d722040>"
            ]
          },
          "metadata": {},
          "execution_count": 4
        },
        {
          "output_type": "display_data",
          "data": {
            "text/plain": [
              "<Figure size 432x288 with 1 Axes>"
            ],
            "image/png": "[encoded data removed]"
          },
          "metadata": {
            "needs_background": "light"
          }
        }
      ]
    },
    {
      "cell_type": "markdown",
      "source": [
        "As we can see, we again have unbalanced data. To prevent unbalanced data problems, we will make use of stratified kfold (some other strategies such as oversampling or undersampling could also be used, but we will only use the stratified kfold)."
      ],
      "metadata": {
        "id": "LA2JI9CjdC1y"
      }
    },
    {
      "cell_type": "markdown",
      "source": [
        "Let us split the data into train and test. A 70% train and 30% test distribution is required, so let us specify those arguments in the train_test_split function of sklearn:"
      ],
      "metadata": {
        "id": "pjJi-6xMdDYA"
      }
    },
    {
      "cell_type": "code",
      "source": [
        "from sklearn.model_selection import train_test_split\n",
        "\n",
        "X_train, X_test, Y_train, Y_test = train_test_split(df_full.drop(columns = ['score']), df_full.score, random_state = 1, train_size = 0.7)"
      ],
      "metadata": {
        "id": "KHTlPziddGt2"
      },
      "execution_count": null,
      "outputs": []
    },
    {
      "cell_type": "markdown",
      "source": [
        "## 4.2. SVM"
      ],
      "metadata": {
        "id": "VvGQsu9obpt6"
      }
    },
    {
      "cell_type": "markdown",
      "source": [
        "### 4.2.1. Default model"
      ],
      "metadata": {
        "id": "BdM-L_mQbrgq"
      }
    },
    {
      "cell_type": "markdown",
      "source": [
        "The first model that we will try is support vector machines (SVM), in this case, we will try a support vector classifier (SVC), because we have a classification problem. Let us create a default model to obtain an initial result:"
      ],
      "metadata": {
        "id": "JJK1-q8bwbST"
      }
    },
    {
      "cell_type": "code",
      "source": [
        "from sklearn.svm import SVC\n",
        "from sklearn.metrics import f1_score\n",
        "from sklearn.metrics import recall_score\n",
        "from sklearn.metrics import precision_score\n",
        "\n",
        "svm_model = SVC(random_state = 0)\n",
        "svm_model.fit(X_train, Y_train)\n",
        "Y_pred = svm_model.predict(X_test)"
      ],
      "metadata": {
        "id": "XK7OlC0gweh6"
      },
      "execution_count": null,
      "outputs": []
    },
    {
      "cell_type": "markdown",
      "source": [
        "Let us obtain the results for the default model:"
      ],
      "metadata": {
        "id": "RCyKXoH7wiNG"
      }
    },
    {
      "cell_type": "code",
      "source": [
        "!pip install tabulate"
      ],
      "metadata": {
        "colab": {
          "base_uri": "https://localhost:8080/"
        },
        "id": "EKnojGMowlHc",
        "outputId": "a60310ea-cd5d-46ed-a023-1358b193e1c7"
      },
      "execution_count": null,
      "outputs": [
        {
          "output_type": "stream",
          "name": "stdout",
          "text": [
            "Looking in indexes: https://pypi.org/simple, https://us-python.pkg.dev/colab-wheels/public/simple/\n",
            "Requirement already satisfied: tabulate in /usr/local/lib/python3.8/dist-packages (0.8.10)\n"
          ]
        }
      ]
    },
    {
      "cell_type": "code",
      "source": [
        "from tabulate import tabulate\n",
        "\n",
        "f1_val = f1_score(Y_test, Y_pred, average = 'micro')\n",
        "acc_val = precision_score(Y_test, Y_pred, average = 'micro')\n",
        "recall_val = recall_score(Y_test, Y_pred, average = 'micro')\n",
        "\n",
        "print(tabulate([[acc_val, recall_val, f1_val]], headers = ['Precision', 'Recall', 'F1 Score']))"
      ],
      "metadata": {
        "colab": {
          "base_uri": "https://localhost:8080/"
        },
        "id": "Air9LbAfwmF0",
        "outputId": "8b687b7f-208b-4dde-cb9e-5d9fa7503071"
      },
      "execution_count": null,
      "outputs": [
        {
          "output_type": "stream",
          "name": "stdout",
          "text": [
            "  Precision    Recall    F1 Score\n",
            "-----------  --------  ----------\n",
            "        0.8       0.8         0.8\n"
          ]
        }
      ]
    },
    {
      "cell_type": "markdown",
      "source": [
        "Let us also take a look at the confussion matrix:"
      ],
      "metadata": {
        "id": "1Gx_AfNoxGt7"
      }
    },
    {
      "cell_type": "code",
      "source": [
        "import matplotlib.pyplot as plt\n",
        "from sklearn.metrics import confusion_matrix, ConfusionMatrixDisplay\n",
        "cm = confusion_matrix(Y_test, Y_pred, labels= svm_model.classes_)\n",
        "disp = ConfusionMatrixDisplay(confusion_matrix=cm, display_labels=svm_model.classes_)\n",
        "disp.plot()"
      ],
      "metadata": {
        "colab": {
          "base_uri": "https://localhost:8080/",
          "height": 301
        },
        "id": "6HPvjB2SxI5W",
        "outputId": "94041f34-4c78-4540-ad93-79cd3709c1f4"
      },
      "execution_count": null,
      "outputs": [
        {
          "output_type": "execute_result",
          "data": {
            "text/plain": [
              "<sklearn.metrics._plot.confusion_matrix.ConfusionMatrixDisplay at 0x7f6dffb87fa0>"
            ]
          },
          "metadata": {},
          "execution_count": 8
        },
        {
          "output_type": "display_data",
          "data": {
            "text/plain": [
              "<Figure size 432x288 with 2 Axes>"
            ],
            "image/png": "[encoded data removed]"
          },
          "metadata": {
            "needs_background": "light"
          }
        }
      ]
    },
    {
      "cell_type": "markdown",
      "source": [
        "As we can see, the default SVM model for the configuration with TF-IDF vectorization, ngrams and pos tagging gives actually good results, but at this point, there is no difference (from the metrics point of view) with respect to the default SVM model of the previous configuration (without pos tagging).\n",
        "\n",
        "With respect to the confussion matrix, we can see that it almost makes no mistakes when predicting 5, however, it does make more mistakes in the other labels."
      ],
      "metadata": {
        "id": "Oas4BHASwrRS"
      }
    },
    {
      "cell_type": "markdown",
      "source": [
        "### 4.2.2. Hyperparametrization"
      ],
      "metadata": {
        "id": "LUdRc2YgbtdB"
      }
    },
    {
      "cell_type": "markdown",
      "source": [
        "Let us tune the parameters to see if it can improve the current best model:"
      ],
      "metadata": {
        "id": "u3Hissbgw-zO"
      }
    },
    {
      "cell_type": "code",
      "source": [
        "from sklearn.svm import SVC\n",
        "from sklearn.model_selection import GridSearchCV\n",
        "from sklearn.model_selection import StratifiedKFold\n",
        "\n",
        "kfold = StratifiedKFold(5)\n",
        "\n",
        "param_grid = {'C': [0.1, 1, 10, 100], \n",
        "              'gamma': [1, 0.1, 0.01, 0.001, 0.0001],\n",
        "              'kernel': ['rbf', 'linear', 'poly', 'sigmoid']}\n",
        "\n",
        "model = SVC(random_state = 0)\n",
        "\n",
        "grid_search_models = GridSearchCV(\n",
        "    estimator = model,\n",
        "    param_grid = param_grid,\n",
        "    cv = kfold,\n",
        "    n_jobs = -1,\n",
        "    verbose = 2\n",
        ")\n",
        "\n",
        "grid_search_models.fit(X_train, Y_train)\n",
        "report(grid_search_models.cv_results_, n_top = 5)"
      ],
      "metadata": {
        "colab": {
          "base_uri": "https://localhost:8080/"
        },
        "id": "kWwe4dSUxCpJ",
        "outputId": "b6df1eea-16ae-41c6-f0d2-45e0cba530bb"
      },
      "execution_count": null,
      "outputs": [
        {
          "output_type": "stream",
          "name": "stdout",
          "text": [
            "Fitting 5 folds for each of 80 candidates, totalling 400 fits\n",
            "Model with rank: 1\n",
            "Mean validation score: 0.816 (std: 0.008)\n",
            "Parameters: {'C': 10, 'gamma': 1, 'kernel': 'rbf'}\n",
            "\n",
            "Model with rank: 1\n",
            "Mean validation score: 0.816 (std: 0.008)\n",
            "Parameters: {'C': 100, 'gamma': 1, 'kernel': 'rbf'}\n",
            "\n",
            "Model with rank: 3\n",
            "Mean validation score: 0.784 (std: 0.014)\n",
            "Parameters: {'C': 100, 'gamma': 0.1, 'kernel': 'rbf'}\n",
            "\n",
            "Model with rank: 4\n",
            "Mean validation score: 0.773 (std: 0.022)\n",
            "Parameters: {'C': 1, 'gamma': 1, 'kernel': 'rbf'}\n",
            "\n",
            "Model with rank: 4\n",
            "Mean validation score: 0.773 (std: 0.011)\n",
            "Parameters: {'C': 10, 'gamma': 0.1, 'kernel': 'rbf'}\n",
            "\n"
          ]
        }
      ]
    },
    {
      "cell_type": "markdown",
      "source": [
        "Let us create the tuned model:"
      ],
      "metadata": {
        "id": "3otbGpNMxyPK"
      }
    },
    {
      "cell_type": "code",
      "source": [
        "parameters = {'C': 100, 'gamma': 1, 'kernel': 'rbf'}\n",
        "\n",
        "svm_model = SVC(**parameters)\n",
        "svm_model.fit(X_train, Y_train)\n",
        "Y_pred = svm_model.predict(X_test)"
      ],
      "metadata": {
        "id": "fJ0WD5wxx0si"
      },
      "execution_count": null,
      "outputs": []
    },
    {
      "cell_type": "markdown",
      "source": [
        "Let us obtain the coefficients for this model:"
      ],
      "metadata": {
        "id": "M7ypH15Gx3w5"
      }
    },
    {
      "cell_type": "code",
      "source": [
        "f1_val = f1_score(Y_test, Y_pred, average = 'micro')\n",
        "acc_val = precision_score(Y_test, Y_pred, average = 'micro')\n",
        "recall_val = recall_score(Y_test, Y_pred, average = 'micro')\n",
        "\n",
        "print(tabulate([[acc_val, recall_val, f1_val]], headers = ['Precision', 'Recall', 'F1 Score']))"
      ],
      "metadata": {
        "colab": {
          "base_uri": "https://localhost:8080/"
        },
        "id": "yT-zV5yxx54j",
        "outputId": "4c1197fb-b857-401b-f20f-d85f3d39b49e"
      },
      "execution_count": null,
      "outputs": [
        {
          "output_type": "stream",
          "name": "stdout",
          "text": [
            "  Precision    Recall    F1 Score\n",
            "-----------  --------  ----------\n",
            "       0.83      0.83        0.83\n"
          ]
        }
      ]
    },
    {
      "cell_type": "markdown",
      "source": [
        "And let us also calculate its confussion matrix:"
      ],
      "metadata": {
        "id": "gDOF55A_x8xD"
      }
    },
    {
      "cell_type": "code",
      "source": [
        "import matplotlib.pyplot as plt\n",
        "from sklearn.metrics import confusion_matrix, ConfusionMatrixDisplay\n",
        "cm = confusion_matrix(Y_test, Y_pred, labels= svm_model.classes_)\n",
        "disp = ConfusionMatrixDisplay(confusion_matrix=cm, display_labels=svm_model.classes_)\n",
        "disp.plot()"
      ],
      "metadata": {
        "colab": {
          "base_uri": "https://localhost:8080/",
          "height": 301
        },
        "id": "nuYDasiCx_fL",
        "outputId": "984f4e8a-f759-41de-cf95-a50b98566437"
      },
      "execution_count": null,
      "outputs": [
        {
          "output_type": "execute_result",
          "data": {
            "text/plain": [
              "<sklearn.metrics._plot.confusion_matrix.ConfusionMatrixDisplay at 0x7f6df895ab20>"
            ]
          },
          "metadata": {},
          "execution_count": 12
        },
        {
          "output_type": "display_data",
          "data": {
            "text/plain": [
              "<Figure size 432x288 with 2 Axes>"
            ],
            "image/png": "[encoded data removed]"
          },
          "metadata": {
            "needs_background": "light"
          }
        }
      ]
    },
    {
      "cell_type": "markdown",
      "source": [
        "As we can see, this model is actually the current best model for the task, as it has better metrics when compared to the others. The only mistake that the model makes is that it never predicts label 2, probably because of the unbalanced data problem."
      ],
      "metadata": {
        "id": "QKN182EF1n-r"
      }
    },
    {
      "cell_type": "markdown",
      "source": [
        "## 4.3. XGBoost"
      ],
      "metadata": {
        "id": "k6c-L7jeb4Pw"
      }
    },
    {
      "cell_type": "markdown",
      "source": [
        "### 4.3.1. Default model"
      ],
      "metadata": {
        "id": "RT0Y5g9wb6uJ"
      }
    },
    {
      "cell_type": "markdown",
      "source": [
        "Let us create a default model (we will parametrize it later):"
      ],
      "metadata": {
        "id": "kykD9xEFJTpb"
      }
    },
    {
      "cell_type": "code",
      "source": [
        "!pip install xgboost"
      ],
      "metadata": {
        "colab": {
          "base_uri": "https://localhost:8080/"
        },
        "id": "a0C9wE_WJTYp",
        "outputId": "6f5609e5-5ffe-471f-e16a-615d98f5baff"
      },
      "execution_count": null,
      "outputs": [
        {
          "output_type": "stream",
          "name": "stdout",
          "text": [
            "Looking in indexes: https://pypi.org/simple, https://us-python.pkg.dev/colab-wheels/public/simple/\n",
            "Requirement already satisfied: xgboost in /usr/local/lib/python3.8/dist-packages (0.90)\n",
            "Requirement already satisfied: scipy in /usr/local/lib/python3.8/dist-packages (from xgboost) (1.7.3)\n",
            "Requirement already satisfied: numpy in /usr/local/lib/python3.8/dist-packages (from xgboost) (1.21.6)\n"
          ]
        }
      ]
    },
    {
      "cell_type": "code",
      "source": [
        "import time\n",
        "\n",
        "from xgboost import XGBClassifier\n",
        "from sklearn.metrics import f1_score\n",
        "\n",
        "# Creates XGBoost Classifier\n",
        "model = XGBClassifier(\n",
        "    random_state = 0,\n",
        "    tree_method = 'gpu_hist',\n",
        "    n_estimators = 64\n",
        ")\n",
        "\n",
        "%time model.fit(X_train, Y_train) # train the model\n",
        "Y_pred = model.predict(X_test)    # obtain the test predictions"
      ],
      "metadata": {
        "colab": {
          "base_uri": "https://localhost:8080/"
        },
        "id": "Ld0jH3zKJWaT",
        "outputId": "ee6df84b-57b0-4016-e7a8-869e118cb2bd"
      },
      "execution_count": null,
      "outputs": [
        {
          "output_type": "stream",
          "name": "stdout",
          "text": [
            "CPU times: user 7.65 s, sys: 2.11 s, total: 9.77 s\n",
            "Wall time: 10 s\n"
          ]
        }
      ]
    },
    {
      "cell_type": "markdown",
      "source": [
        "Let us obtain the results of the default model:"
      ],
      "metadata": {
        "id": "rkpddFL1JaFC"
      }
    },
    {
      "cell_type": "code",
      "source": [
        "from tabulate import tabulate\n",
        "from sklearn.metrics import f1_score\n",
        "from sklearn.metrics import recall_score\n",
        "from sklearn.metrics import precision_score\n",
        "\n",
        "f1_val = f1_score(Y_test, Y_pred, average = 'micro')\n",
        "acc_val = precision_score(Y_test, Y_pred, average = 'micro')\n",
        "recall_val = recall_score(Y_test, Y_pred, average = 'micro')\n",
        "\n",
        "print(tabulate([[acc_val, recall_val, f1_val]], headers = ['Precision', 'Recall', 'F1 Score']))"
      ],
      "metadata": {
        "colab": {
          "base_uri": "https://localhost:8080/"
        },
        "id": "x0c5RF3iJhKQ",
        "outputId": "eb03e39f-b66b-46bb-9104-2da2345e3135"
      },
      "execution_count": null,
      "outputs": [
        {
          "output_type": "stream",
          "name": "stdout",
          "text": [
            "  Precision    Recall    F1 Score\n",
            "-----------  --------  ----------\n",
            "       0.67      0.67        0.67\n"
          ]
        }
      ]
    },
    {
      "cell_type": "markdown",
      "source": [
        "Let us also compute the confussion matrix:"
      ],
      "metadata": {
        "id": "-3ke3YQBJin-"
      }
    },
    {
      "cell_type": "code",
      "source": [
        "import matplotlib.pyplot as plt\n",
        "from sklearn.metrics import confusion_matrix, ConfusionMatrixDisplay\n",
        "cm = confusion_matrix(Y_test, Y_pred, labels= [1,2,3,4,5])\n",
        "disp = ConfusionMatrixDisplay(confusion_matrix=cm, display_labels=[1,2,3,4,5])\n",
        "disp.plot()"
      ],
      "metadata": {
        "colab": {
          "base_uri": "https://localhost:8080/",
          "height": 315
        },
        "id": "hhcsYklbJkTg",
        "outputId": "fce91f95-8e0c-43f1-8e81-38d73ff35688"
      },
      "execution_count": null,
      "outputs": [
        {
          "output_type": "execute_result",
          "data": {
            "text/plain": [
              "<sklearn.metrics._plot.confusion_matrix.ConfusionMatrixDisplay at 0x7f6f6d7d63a0>"
            ]
          },
          "metadata": {},
          "execution_count": 8
        },
        {
          "output_type": "display_data",
          "data": {
            "text/plain": [
              "<Figure size 432x288 with 2 Axes>"
            ],
            "image/png": "[encoded data removed]"
          },
          "metadata": {
            "needs_background": "light"
          }
        }
      ]
    },
    {
      "cell_type": "markdown",
      "source": [
        "As we can see from the results, the model is slightly better than the previous XGBoost versions, however, it is still much worse than the SVM models. The main problem of this model is that it pretty much always tries the label 5 prediction, missing a high number of times (probably because of the unbalance, this can be solved when tuning the algorithm if we use stratified kfold). "
      ],
      "metadata": {
        "id": "7jzk4NNxJqvp"
      }
    },
    {
      "cell_type": "markdown",
      "source": [
        "### 4.3.2. Hyperparametrization"
      ],
      "metadata": {
        "id": "cvqtnCKGb8r9"
      }
    },
    {
      "cell_type": "markdown",
      "source": [
        "Let us tune the algorithm:"
      ],
      "metadata": {
        "id": "1PHHGFY5J963"
      }
    },
    {
      "cell_type": "code",
      "source": [
        "from xgboost import XGBClassifier\n",
        "from sklearn.model_selection import RandomizedSearchCV\n",
        "from sklearn.model_selection import StratifiedKFold\n",
        "\n",
        "\n",
        "kfold = StratifiedKFold(n_splits = 3) # To prevent unbalanced data problems\n",
        "\n",
        "model = XGBClassifier(random_state = 0, tree_method = 'gpu_hist')\n",
        "\n",
        "param_dist = {\n",
        "    \"learning_rate\": [0.001, 0.01, 0.1],\n",
        "    \"n_estimators\": [64, 128, 256, 512, 1024, 2048],\n",
        "    \"colsample_bytree\": [0.6, 0.8, 1.0],\n",
        "    \"subsample\": [0.5, 0.7, 1.0],\n",
        "    \"max_depth\": [3, 7, 9],\n",
        "    \"reg_lambda\": [1, 1.5, 2],\n",
        "    \"gamma\": [0, 0.1, 0.3],\n",
        "}\n",
        "\n",
        "random_search_models = RandomizedSearchCV(\n",
        "    estimator = model, \n",
        "    param_distributions = param_dist, \n",
        "    n_iter = 50, \n",
        "    cv = kfold, \n",
        "    random_state = 0,\n",
        "    n_jobs = -1,\n",
        "    verbose = 3\n",
        ")\n",
        "\n",
        "random_search_models.fit(X_train, Y_train)"
      ],
      "metadata": {
        "colab": {
          "base_uri": "https://localhost:8080/"
        },
        "id": "opVLLF0NKF57",
        "outputId": "d2af1874-240f-411c-a80e-a035db9b2b3b"
      },
      "execution_count": null,
      "outputs": [
        {
          "output_type": "stream",
          "name": "stdout",
          "text": [
            "Fitting 3 folds for each of 50 candidates, totalling 150 fits\n"
          ]
        },
        {
          "output_type": "stream",
          "name": "stderr",
          "text": [
            "/usr/local/lib/python3.8/dist-packages/joblib/externals/loky/process_executor.py:700: UserWarning: A worker stopped while some jobs were given to the executor. This can be caused by a too short worker timeout or by a memory leak.\n",
            "  warnings.warn(\n"
          ]
        },
        {
          "output_type": "execute_result",
          "data": {
            "text/plain": [
              "RandomizedSearchCV(cv=StratifiedKFold(n_splits=3, random_state=None, shuffle=False),\n",
              "                   estimator=XGBClassifier(tree_method='gpu_hist'), n_iter=50,\n",
              "                   n_jobs=-1,\n",
              "                   param_distributions={'colsample_bytree': [0.6, 0.8, 1.0],\n",
              "                                        'gamma': [0, 0.1, 0.3],\n",
              "                                        'learning_rate': [0.001, 0.01, 0.1],\n",
              "                                        'max_depth': [3, 7, 9],\n",
              "                                        'n_estimators': [64, 128, 256, 512,\n",
              "                                                         1024, 2048],\n",
              "                                        'reg_lambda': [1, 1.5, 2],\n",
              "                                        'subsample': [0.5, 0.7, 1.0]},\n",
              "                   random_state=0, verbose=3)"
            ]
          },
          "metadata": {},
          "execution_count": 10
        }
      ]
    },
    {
      "cell_type": "code",
      "source": [
        "report(random_search_models.cv_results_, n_top = 5)"
      ],
      "metadata": {
        "colab": {
          "base_uri": "https://localhost:8080/"
        },
        "id": "UfrwtxdWKGzK",
        "outputId": "43172716-5e9e-4ebb-dd4d-bc73f8f6fe22"
      },
      "execution_count": null,
      "outputs": [
        {
          "output_type": "stream",
          "name": "stdout",
          "text": [
            "Model with rank: 1\n",
            "Mean validation score: 0.656 (std: 0.008)\n",
            "Parameters: {'subsample': 0.5, 'reg_lambda': 1.5, 'n_estimators': 64, 'max_depth': 7, 'learning_rate': 0.1, 'gamma': 0.1, 'colsample_bytree': 0.6}\n",
            "\n",
            "Model with rank: 2\n",
            "Mean validation score: 0.651 (std: 0.006)\n",
            "Parameters: {'subsample': 0.5, 'reg_lambda': 2, 'n_estimators': 64, 'max_depth': 7, 'learning_rate': 0.1, 'gamma': 0.3, 'colsample_bytree': 1.0}\n",
            "\n",
            "Model with rank: 3\n",
            "Mean validation score: 0.650 (std: 0.004)\n",
            "Parameters: {'subsample': 0.5, 'reg_lambda': 1, 'n_estimators': 1024, 'max_depth': 3, 'learning_rate': 0.01, 'gamma': 0.1, 'colsample_bytree': 0.6}\n",
            "\n",
            "Model with rank: 3\n",
            "Mean validation score: 0.650 (std: 0.004)\n",
            "Parameters: {'subsample': 0.5, 'reg_lambda': 1, 'n_estimators': 1024, 'max_depth': 3, 'learning_rate': 0.01, 'gamma': 0.3, 'colsample_bytree': 0.6}\n",
            "\n",
            "Model with rank: 5\n",
            "Mean validation score: 0.650 (std: 0.009)\n",
            "Parameters: {'subsample': 0.5, 'reg_lambda': 1.5, 'n_estimators': 128, 'max_depth': 3, 'learning_rate': 0.1, 'gamma': 0, 'colsample_bytree': 0.8}\n",
            "\n"
          ]
        }
      ]
    },
    {
      "cell_type": "markdown",
      "source": [
        "Let us build the tuned model:"
      ],
      "metadata": {
        "id": "Ugo6tZDrKKDt"
      }
    },
    {
      "cell_type": "code",
      "source": [
        "parameters = {'subsample': 0.5, 'reg_lambda': 1.5, 'n_estimators': 64, 'max_depth': 7, 'learning_rate': 0.1, 'gamma': 0.1, 'colsample_bytree': 0.6, 'random_state' : 0}\n",
        "model = XGBClassifier(**parameters)\n",
        "model.fit(X_train, Y_train)\n",
        "Y_pred = model.predict(X_test)"
      ],
      "metadata": {
        "id": "5N1Q-T_qKLfx"
      },
      "execution_count": null,
      "outputs": []
    },
    {
      "cell_type": "markdown",
      "source": [
        "Let us obtain the results of the tuned model:"
      ],
      "metadata": {
        "id": "-DfKc1QnB3iQ"
      }
    },
    {
      "cell_type": "code",
      "source": [
        "from tabulate import tabulate\n",
        "from sklearn.metrics import f1_score\n",
        "from sklearn.metrics import recall_score\n",
        "from sklearn.metrics import precision_score\n",
        "\n",
        "f1_val = f1_score(Y_test, Y_pred, average = 'micro')\n",
        "acc_val = precision_score(Y_test, Y_pred, average = 'micro')\n",
        "recall_val = recall_score(Y_test, Y_pred, average = 'micro')\n",
        "\n",
        "print(tabulate([[acc_val, recall_val, f1_val]], headers = ['Precision', 'Recall', 'F1 Score']))"
      ],
      "metadata": {
        "colab": {
          "base_uri": "https://localhost:8080/"
        },
        "id": "H6ssAp_lB55s",
        "outputId": "2b63e8f8-8fa4-424c-f3e4-46aad3426c09"
      },
      "execution_count": null,
      "outputs": [
        {
          "output_type": "stream",
          "name": "stdout",
          "text": [
            "  Precision    Recall    F1 Score\n",
            "-----------  --------  ----------\n",
            "   0.686667  0.686667    0.686667\n"
          ]
        }
      ]
    },
    {
      "cell_type": "markdown",
      "source": [
        "Let us also compute its confussion matrix:"
      ],
      "metadata": {
        "id": "e6iMYoAhB-qv"
      }
    },
    {
      "cell_type": "code",
      "source": [
        "import matplotlib.pyplot as plt\n",
        "from sklearn.metrics import confusion_matrix, ConfusionMatrixDisplay\n",
        "cm = confusion_matrix(Y_test, Y_pred, labels= [1,2,3,4,5])\n",
        "disp = ConfusionMatrixDisplay(confusion_matrix=cm, display_labels=[1,2,3,4,5])\n",
        "disp.plot()"
      ],
      "metadata": {
        "colab": {
          "base_uri": "https://localhost:8080/",
          "height": 315
        },
        "id": "Rys7A-psCAMY",
        "outputId": "a31ae037-2951-4123-cd16-d93b080a7d75"
      },
      "execution_count": null,
      "outputs": [
        {
          "output_type": "execute_result",
          "data": {
            "text/plain": [
              "<sklearn.metrics._plot.confusion_matrix.ConfusionMatrixDisplay at 0x7f6f7683c280>"
            ]
          },
          "metadata": {},
          "execution_count": 16
        },
        {
          "output_type": "display_data",
          "data": {
            "text/plain": [
              "<Figure size 432x288 with 2 Axes>"
            ],
            "image/png": "[encoded data removed]"
          },
          "metadata": {
            "needs_background": "light"
          }
        }
      ]
    },
    {
      "cell_type": "markdown",
      "source": [
        "As we can see, this is currently the best XGBoost model but it is still worse when compared to the SVM models. \n",
        "\n",
        "The main problems are related to predicting many times the label 5 (and failing), and not predicting some other labels (e.g. label 2 is never predicted by the model)."
      ],
      "metadata": {
        "id": "QlPWSLYbCGd_"
      }
    },
    {
      "cell_type": "markdown",
      "source": [
        "# 5. TF-IDF n-grams with pos tagging and additional features"
      ],
      "metadata": {
        "id": "vbYKbvHZa9Tp"
      }
    },
    {
      "cell_type": "markdown",
      "source": [
        "The last models that we have to create are related to TF-IDF with n-grams (2 only), pos tagging and additional features. We will follow the same procedure as in the previous ones."
      ],
      "metadata": {
        "id": "OQ8G8LYabMkA"
      }
    },
    {
      "cell_type": "markdown",
      "source": [
        "## 5.1. Loading the data"
      ],
      "metadata": {
        "id": "-0X2caTSbmdg"
      }
    },
    {
      "cell_type": "code",
      "source": [
        "import pandas as pd\n",
        "\n",
        "!wget 'https://raw.githubusercontent.com/schmidt-marvin/ESI_2022_TecAA/main/task03/intermediate_files/tfidf_ngrams_postag_other.csv'\n",
        "\n",
        "df_full = pd.read_csv('tfidf_ngrams_postag_other.csv', index_col = 'Unnamed: 0')"
      ],
      "metadata": {
        "colab": {
          "base_uri": "https://localhost:8080/"
        },
        "id": "Lh7wizLtbAe5",
        "outputId": "4a849207-644a-45b0-ac18-74da2f310bdf"
      },
      "execution_count": null,
      "outputs": [
        {
          "output_type": "stream",
          "name": "stdout",
          "text": [
            "--2023-01-14 15:18:04--  https://raw.githubusercontent.com/schmidt-marvin/ESI_2022_TecAA/main/task03/intermediate_files/tfidf_ngrams_postag_other.csv\n",
            "Resolving raw.githubusercontent.com (raw.githubusercontent.com)... 185.199.108.133, 185.199.109.133, 185.199.110.133, ...\n",
            "Connecting to raw.githubusercontent.com (raw.githubusercontent.com)|185.199.108.133|:443... connected.\n",
            "HTTP request sent, awaiting response... 200 OK\n",
            "Length: 52282962 (50M) [text/plain]\n",
            "Saving to: ‘tfidf_ngrams_postag_other.csv’\n",
            "\n",
            "tfidf_ngrams_postag 100%[===================>]  49.86M   239MB/s    in 0.2s    \n",
            "\n",
            "2023-01-14 15:18:07 (239 MB/s) - ‘tfidf_ngrams_postag_other.csv’ saved [52282962/52282962]\n",
            "\n"
          ]
        }
      ]
    },
    {
      "cell_type": "markdown",
      "source": [
        "Let us take a look at the data, to see whether it is balanced or not:"
      ],
      "metadata": {
        "id": "KhGUTzavcWI2"
      }
    },
    {
      "cell_type": "code",
      "source": [
        "df_full[['score']].value_counts().plot(kind = 'bar')"
      ],
      "metadata": {
        "colab": {
          "base_uri": "https://localhost:8080/",
          "height": 304
        },
        "id": "O0s0nly8cwnC",
        "outputId": "6929cb38-ec8a-40ff-89c1-da1435e695c8"
      },
      "execution_count": null,
      "outputs": [
        {
          "output_type": "execute_result",
          "data": {
            "text/plain": [
              "<matplotlib.axes._subplots.AxesSubplot at 0x7f60f32302b0>"
            ]
          },
          "metadata": {},
          "execution_count": 3
        },
        {
          "output_type": "display_data",
          "data": {
            "text/plain": [
              "<Figure size 432x288 with 1 Axes>"
            ],
            "image/png": "[encoded data removed]"
          },
          "metadata": {
            "needs_background": "light"
          }
        }
      ]
    },
    {
      "cell_type": "markdown",
      "source": [
        "As we can see, we again have unbalanced data. To prevent unbalanced data problems, we will make use of stratified kfold (some other strategies such as oversampling or undersampling could also be used, but we will only use the stratified kfold)."
      ],
      "metadata": {
        "id": "yF7bA5acc6nu"
      }
    },
    {
      "cell_type": "markdown",
      "source": [
        "Let us split the data into train and test. A 70% train and 30% test distribution is required, so let us specify those arguments in the train_test_split function of sklearn:"
      ],
      "metadata": {
        "id": "1BK1PV6oc9ee"
      }
    },
    {
      "cell_type": "code",
      "source": [
        "from sklearn.model_selection import train_test_split\n",
        "\n",
        "X_train, X_test, Y_train, Y_test = train_test_split(df_full.drop(columns = ['score']), df_full.score, random_state = 1, train_size = 0.7)"
      ],
      "metadata": {
        "id": "J6h5RA-gc-AM"
      },
      "execution_count": null,
      "outputs": []
    },
    {
      "cell_type": "markdown",
      "source": [
        "## 5.2. SVM"
      ],
      "metadata": {
        "id": "EJmCqwTecAQL"
      }
    },
    {
      "cell_type": "markdown",
      "source": [
        "### 5.2.1. Default model"
      ],
      "metadata": {
        "id": "_bpB2JnMcDqn"
      }
    },
    {
      "cell_type": "markdown",
      "source": [
        "The first model that we will try is support vector machines (SVM), in this case, we will try a support vector classifier (SVC), because we have a classification problem. Let us create a default model to obtain an initial result:"
      ],
      "metadata": {
        "id": "7RA8IS-yDekC"
      }
    },
    {
      "cell_type": "code",
      "source": [
        "from sklearn.svm import SVC\n",
        "from sklearn.metrics import f1_score\n",
        "from sklearn.metrics import recall_score\n",
        "from sklearn.metrics import precision_score\n",
        "\n",
        "svm_model = SVC(random_state = 0)\n",
        "svm_model.fit(X_train, Y_train)\n",
        "Y_pred = svm_model.predict(X_test)"
      ],
      "metadata": {
        "id": "QfZQHsaODf6Y"
      },
      "execution_count": null,
      "outputs": []
    },
    {
      "cell_type": "markdown",
      "source": [
        "Let us obtain the results of the default model:"
      ],
      "metadata": {
        "id": "r0MGrpQKDin9"
      }
    },
    {
      "cell_type": "code",
      "source": [
        "!pip install tabulate"
      ],
      "metadata": {
        "colab": {
          "base_uri": "https://localhost:8080/"
        },
        "id": "DBiszOM0Dkg3",
        "outputId": "610c9fbf-085a-4b9d-a593-12c1f3b73b52"
      },
      "execution_count": null,
      "outputs": [
        {
          "output_type": "stream",
          "name": "stdout",
          "text": [
            "Looking in indexes: https://pypi.org/simple, https://us-python.pkg.dev/colab-wheels/public/simple/\n",
            "Requirement already satisfied: tabulate in /usr/local/lib/python3.8/dist-packages (0.8.10)\n"
          ]
        }
      ]
    },
    {
      "cell_type": "code",
      "source": [
        "from tabulate import tabulate\n",
        "\n",
        "f1_val = f1_score(Y_test, Y_pred, average = 'micro')\n",
        "acc_val = precision_score(Y_test, Y_pred, average = 'micro')\n",
        "recall_val = recall_score(Y_test, Y_pred, average = 'micro')\n",
        "\n",
        "print(tabulate([[acc_val, recall_val, f1_val]], headers = ['Precision', 'Recall', 'F1 Score']))"
      ],
      "metadata": {
        "colab": {
          "base_uri": "https://localhost:8080/"
        },
        "id": "IRRszmSeDmnm",
        "outputId": "4dd763a2-a7ed-4a6c-b3ec-eeb69c38cd98"
      },
      "execution_count": null,
      "outputs": [
        {
          "output_type": "stream",
          "name": "stdout",
          "text": [
            "  Precision    Recall    F1 Score\n",
            "-----------  --------  ----------\n",
            "   0.806667  0.806667    0.806667\n"
          ]
        }
      ]
    },
    {
      "cell_type": "markdown",
      "source": [
        "Let us also take a look at the confussion matrix:"
      ],
      "metadata": {
        "id": "qyAGYVGpDpMg"
      }
    },
    {
      "cell_type": "code",
      "source": [
        "import matplotlib.pyplot as plt\n",
        "from sklearn.metrics import confusion_matrix, ConfusionMatrixDisplay\n",
        "cm = confusion_matrix(Y_test, Y_pred, labels= svm_model.classes_)\n",
        "disp = ConfusionMatrixDisplay(confusion_matrix=cm, display_labels=svm_model.classes_)\n",
        "disp.plot()"
      ],
      "metadata": {
        "colab": {
          "base_uri": "https://localhost:8080/",
          "height": 300
        },
        "id": "fOIxLRmiDuRa",
        "outputId": "670f0494-3da8-4418-e64a-02c6c7929ebf"
      },
      "execution_count": null,
      "outputs": [
        {
          "output_type": "execute_result",
          "data": {
            "text/plain": [
              "<sklearn.metrics._plot.confusion_matrix.ConfusionMatrixDisplay at 0x7f60f3105b50>"
            ]
          },
          "metadata": {},
          "execution_count": 8
        },
        {
          "output_type": "display_data",
          "data": {
            "text/plain": [
              "<Figure size 432x288 with 2 Axes>"
            ],
            "image/png": "[encoded data removed]"
          },
          "metadata": {
            "needs_background": "light"
          }
        }
      ]
    },
    {
      "cell_type": "markdown",
      "source": [
        "As we can see, the default model obtained with SVM is actually not a bad model, in fact, it is the best default model obtained at the moment (it is not the best overall model).\n",
        "\n",
        "Its main problem is that it will never predict labels 2 or 3 (probably due to the unbalance in the data), let us see if after tuning the algorithm it improves it or not."
      ],
      "metadata": {
        "id": "Oe2uzVTPDzJo"
      }
    },
    {
      "cell_type": "markdown",
      "source": [
        "### 5.2.2. Hyperpametrization"
      ],
      "metadata": {
        "id": "Sfnj3FDlcFvX"
      }
    },
    {
      "cell_type": "markdown",
      "source": [
        "Let us tune the model in the same way as before:"
      ],
      "metadata": {
        "id": "Swv_YGK1EB4n"
      }
    },
    {
      "cell_type": "code",
      "source": [
        "from sklearn.svm import SVC\n",
        "from sklearn.model_selection import GridSearchCV\n",
        "from sklearn.model_selection import StratifiedKFold\n",
        "\n",
        "kfold = StratifiedKFold(5)\n",
        "\n",
        "param_grid = {'C': [0.1, 1, 10, 100], \n",
        "              'gamma': [1, 0.1, 0.01, 0.001, 0.0001],\n",
        "              'kernel': ['rbf', 'linear', 'poly', 'sigmoid']}\n",
        "\n",
        "model = SVC(random_state = 0)\n",
        "\n",
        "grid_search_models = GridSearchCV(\n",
        "    estimator = model,\n",
        "    param_grid = param_grid,\n",
        "    cv = kfold,\n",
        "    n_jobs = -1,\n",
        "    verbose = 2\n",
        ")\n",
        "\n",
        "grid_search_models.fit(X_train, Y_train)\n",
        "report(grid_search_models.cv_results_, n_top = 5)"
      ],
      "metadata": {
        "colab": {
          "base_uri": "https://localhost:8080/"
        },
        "id": "rDlkwWxuEE-i",
        "outputId": "c34dfb90-4993-4eac-a87e-5be857a0f199"
      },
      "execution_count": null,
      "outputs": [
        {
          "output_type": "stream",
          "name": "stdout",
          "text": [
            "Fitting 5 folds for each of 80 candidates, totalling 400 fits\n",
            "Model with rank: 1\n",
            "Mean validation score: 0.809 (std: 0.007)\n",
            "Parameters: {'C': 10, 'gamma': 1, 'kernel': 'rbf'}\n",
            "\n",
            "Model with rank: 1\n",
            "Mean validation score: 0.809 (std: 0.007)\n",
            "Parameters: {'C': 100, 'gamma': 1, 'kernel': 'rbf'}\n",
            "\n",
            "Model with rank: 3\n",
            "Mean validation score: 0.779 (std: 0.016)\n",
            "Parameters: {'C': 1, 'gamma': 1, 'kernel': 'rbf'}\n",
            "\n",
            "Model with rank: 4\n",
            "Mean validation score: 0.774 (std: 0.018)\n",
            "Parameters: {'C': 100, 'gamma': 0.1, 'kernel': 'rbf'}\n",
            "\n",
            "Model with rank: 5\n",
            "Mean validation score: 0.770 (std: 0.020)\n",
            "Parameters: {'C': 10, 'gamma': 0.1, 'kernel': 'rbf'}\n",
            "\n"
          ]
        }
      ]
    },
    {
      "cell_type": "markdown",
      "source": [
        "Let us build the best model:"
      ],
      "metadata": {
        "id": "0cDMgrOmEK7g"
      }
    },
    {
      "cell_type": "code",
      "source": [
        "parameters = {'C': 10, 'gamma': 1, 'kernel': 'rbf'}\n",
        "\n",
        "svm_model = SVC(**parameters)\n",
        "svm_model.fit(X_train, Y_train)\n",
        "Y_pred = svm_model.predict(X_test)"
      ],
      "metadata": {
        "id": "rQ-Zsc_2EL51"
      },
      "execution_count": null,
      "outputs": []
    },
    {
      "cell_type": "markdown",
      "source": [
        "Let us obtain its results:"
      ],
      "metadata": {
        "id": "JFgy1KUmEPNs"
      }
    },
    {
      "cell_type": "code",
      "source": [
        "from tabulate import tabulate\n",
        "\n",
        "f1_val = f1_score(Y_test, Y_pred, average = 'micro')\n",
        "acc_val = precision_score(Y_test, Y_pred, average = 'micro')\n",
        "recall_val = recall_score(Y_test, Y_pred, average = 'micro')\n",
        "\n",
        "print(tabulate([[acc_val, recall_val, f1_val]], headers = ['Precision', 'Recall', 'F1 Score']))"
      ],
      "metadata": {
        "colab": {
          "base_uri": "https://localhost:8080/"
        },
        "id": "Tvg35pxaEQTD",
        "outputId": "536e214d-b4f0-4441-ec41-ca73b66ff6ec"
      },
      "execution_count": null,
      "outputs": [
        {
          "output_type": "stream",
          "name": "stdout",
          "text": [
            "  Precision    Recall    F1 Score\n",
            "-----------  --------  ----------\n",
            "   0.826667  0.826667    0.826667\n"
          ]
        }
      ]
    },
    {
      "cell_type": "markdown",
      "source": [
        "And also its confussion matrix:"
      ],
      "metadata": {
        "id": "OQZEdVdOETFs"
      }
    },
    {
      "cell_type": "code",
      "source": [
        "import matplotlib.pyplot as plt\n",
        "from sklearn.metrics import confusion_matrix, ConfusionMatrixDisplay\n",
        "cm = confusion_matrix(Y_test, Y_pred, labels= svm_model.classes_)\n",
        "disp = ConfusionMatrixDisplay(confusion_matrix=cm, display_labels=svm_model.classes_)\n",
        "disp.plot()"
      ],
      "metadata": {
        "colab": {
          "base_uri": "https://localhost:8080/",
          "height": 300
        },
        "id": "CfKa1sqPEUhN",
        "outputId": "0b0bb1d6-465c-42c7-f15a-fcbb808276b2"
      },
      "execution_count": null,
      "outputs": [
        {
          "output_type": "execute_result",
          "data": {
            "text/plain": [
              "<sklearn.metrics._plot.confusion_matrix.ConfusionMatrixDisplay at 0x7f60f22c1e20>"
            ]
          },
          "metadata": {},
          "execution_count": 11
        },
        {
          "output_type": "display_data",
          "data": {
            "text/plain": [
              "<Figure size 432x288 with 2 Axes>"
            ],
            "image/png": "[encoded data removed]"
          },
          "metadata": {
            "needs_background": "light"
          }
        }
      ]
    },
    {
      "cell_type": "markdown",
      "source": [
        "As we can see, we obtained a really good model, whose scores are actually great. Its main problem is still the label 2. Due to the unbalance in the data, it never predicts the label 2, however, it gets good results anyway, so we do not consider it to be critical (it is hard that the user labels 2, thats why the model tends to predict otehr labels such as 1 or 3 for those cases)."
      ],
      "metadata": {
        "id": "gKp0cZzjKWyx"
      }
    },
    {
      "cell_type": "markdown",
      "source": [
        "Anyway, this is the best model obtained so far, let us see if XGBoost can compete with it (it could not in the previous cases, let us see if it can in this case)."
      ],
      "metadata": {
        "id": "moFJyWj4Kz8l"
      }
    },
    {
      "cell_type": "markdown",
      "source": [
        "## 5.3. XGBoost"
      ],
      "metadata": {
        "id": "Py-5eX0RcHxE"
      }
    },
    {
      "cell_type": "markdown",
      "source": [
        "### 5.3.1. Default model"
      ],
      "metadata": {
        "id": "4amekRbVcJZb"
      }
    },
    {
      "cell_type": "markdown",
      "source": [
        "Let us create a default model (we will parametrize it later):"
      ],
      "metadata": {
        "id": "jzqBSG_FEcuf"
      }
    },
    {
      "cell_type": "code",
      "source": [
        "!pip install xgboost"
      ],
      "metadata": {
        "colab": {
          "base_uri": "https://localhost:8080/"
        },
        "id": "zrXFvOSnEdSI",
        "outputId": "06ac8f61-69e8-400f-f899-71a783db48fc"
      },
      "execution_count": null,
      "outputs": [
        {
          "output_type": "stream",
          "name": "stdout",
          "text": [
            "Looking in indexes: https://pypi.org/simple, https://us-python.pkg.dev/colab-wheels/public/simple/\n",
            "Requirement already satisfied: xgboost in /usr/local/lib/python3.8/dist-packages (0.90)\n",
            "Requirement already satisfied: numpy in /usr/local/lib/python3.8/dist-packages (from xgboost) (1.21.6)\n",
            "Requirement already satisfied: scipy in /usr/local/lib/python3.8/dist-packages (from xgboost) (1.7.3)\n"
          ]
        }
      ]
    },
    {
      "cell_type": "code",
      "source": [
        "import time\n",
        "\n",
        "from xgboost import XGBClassifier\n",
        "from sklearn.metrics import f1_score\n",
        "from sklearn.metrics import precision_score\n",
        "from sklearn.metrics import recall_score\n",
        "\n",
        "# Creates XGBoost Classifier\n",
        "model = XGBClassifier(\n",
        "    random_state = 0,\n",
        "    tree_method = 'gpu_hist',\n",
        "    n_estimators = 64\n",
        ")\n",
        "\n",
        "%time model.fit(X_train, Y_train) # train the model\n",
        "Y_pred = model.predict(X_test)    # obtain the test predictions"
      ],
      "metadata": {
        "colab": {
          "base_uri": "https://localhost:8080/"
        },
        "id": "0OOmpcD3EfQ8",
        "outputId": "dc35a0de-ab67-4246-9d2e-57356b9787f7"
      },
      "execution_count": null,
      "outputs": [
        {
          "output_type": "stream",
          "name": "stdout",
          "text": [
            "CPU times: user 7.46 s, sys: 1.97 s, total: 9.42 s\n",
            "Wall time: 10.5 s\n"
          ]
        }
      ]
    },
    {
      "cell_type": "markdown",
      "source": [
        "Let us obtain the results for the default model:"
      ],
      "metadata": {
        "id": "vYxTyzw0Ee3Y"
      }
    },
    {
      "cell_type": "code",
      "source": [
        "from tabulate import tabulate\n",
        "\n",
        "f1_val = f1_score(Y_test, Y_pred, average = 'micro')\n",
        "acc_val = precision_score(Y_test, Y_pred, average = 'micro')\n",
        "recall_val = recall_score(Y_test, Y_pred, average = 'micro')\n",
        "\n",
        "print(tabulate([[acc_val, recall_val, f1_val]], headers = ['Precision', 'Recall', 'F1 Score']))"
      ],
      "metadata": {
        "colab": {
          "base_uri": "https://localhost:8080/"
        },
        "id": "nWPZNZptEi4g",
        "outputId": "cc1f0e5d-bc59-4bae-fa44-978136554715"
      },
      "execution_count": null,
      "outputs": [
        {
          "output_type": "stream",
          "name": "stdout",
          "text": [
            "  Precision    Recall    F1 Score\n",
            "-----------  --------  ----------\n",
            "   0.663333  0.663333    0.663333\n"
          ]
        }
      ]
    },
    {
      "cell_type": "markdown",
      "source": [
        "And also its confussion matrix:"
      ],
      "metadata": {
        "id": "WwZTBZoyElFa"
      }
    },
    {
      "cell_type": "code",
      "source": [
        "import matplotlib.pyplot as plt\n",
        "from sklearn.metrics import confusion_matrix, ConfusionMatrixDisplay\n",
        "cm = confusion_matrix(Y_test, Y_pred, labels= model.classes_)\n",
        "disp = ConfusionMatrixDisplay(confusion_matrix=cm, display_labels=model.classes_)\n",
        "disp.plot()"
      ],
      "metadata": {
        "colab": {
          "base_uri": "https://localhost:8080/",
          "height": 296
        },
        "id": "X_axK1cGEnMp",
        "outputId": "5c70aa01-06a1-43e5-e362-dc1d51d473c6"
      },
      "execution_count": null,
      "outputs": [
        {
          "output_type": "execute_result",
          "data": {
            "text/plain": [
              "<sklearn.metrics._plot.confusion_matrix.ConfusionMatrixDisplay at 0x7f282ba99b80>"
            ]
          },
          "metadata": {},
          "execution_count": 9
        },
        {
          "output_type": "display_data",
          "data": {
            "text/plain": [
              "<Figure size 432x288 with 2 Axes>"
            ],
            "image/png": "[encoded data removed]"
          },
          "metadata": {
            "needs_background": "light"
          }
        }
      ]
    },
    {
      "cell_type": "markdown",
      "source": [
        "Again, we obtained a model that is much worse when compared to the current best model that uses SVM. It has the same problem that it never predicts 2, but it also has other problems such as relatively low accuracy when predicting 5.\n",
        "\n",
        "Let us see if we can tune this model to make it work better."
      ],
      "metadata": {
        "id": "Gdo5F5oqK-Fp"
      }
    },
    {
      "cell_type": "markdown",
      "source": [
        "### 5.3.2. Hyperparametrization"
      ],
      "metadata": {
        "id": "8d-wefIkcLGL"
      }
    },
    {
      "cell_type": "markdown",
      "source": [
        "Let's also tune the xgboost algorithm to see if it can compete with the tuned SVM model or not:"
      ],
      "metadata": {
        "id": "8-gLQF52ErTJ"
      }
    },
    {
      "cell_type": "code",
      "source": [
        "from xgboost import XGBClassifier\n",
        "from sklearn.model_selection import RandomizedSearchCV\n",
        "from sklearn.model_selection import StratifiedKFold\n",
        "\n",
        "\n",
        "kfold = StratifiedKFold(n_splits = 3) # To prevent unbalanced data problems\n",
        "\n",
        "model = XGBClassifier(random_state = 0, tree_method = 'gpu_hist')\n",
        "\n",
        "param_dist = {\n",
        "    \"learning_rate\": [0.001, 0.01, 0.1],\n",
        "    \"n_estimators\": [64, 128, 256, 512, 1024, 2048],\n",
        "    \"colsample_bytree\": [0.6, 0.8, 1.0],\n",
        "    \"subsample\": [0.5, 0.7, 1.0],\n",
        "    \"max_depth\": [3, 7, 9],\n",
        "    \"reg_lambda\": [1, 1.5, 2],\n",
        "    \"gamma\": [0, 0.1, 0.3],\n",
        "}\n",
        "\n",
        "random_search_models = RandomizedSearchCV(\n",
        "    estimator = model, \n",
        "    param_distributions = param_dist, \n",
        "    n_iter = 50, \n",
        "    cv = kfold, \n",
        "    random_state = 0,\n",
        "    n_jobs = -1,\n",
        "    verbose = 3\n",
        ")\n",
        "\n",
        "random_search_models.fit(X_train, Y_train)\n",
        "report(random_search_models.cv_results_, n_top = 5)"
      ],
      "metadata": {
        "id": "89gsEKdUEp8P",
        "colab": {
          "base_uri": "https://localhost:8080/"
        },
        "outputId": "0dce7a86-5b11-432b-b180-d703c7037201"
      },
      "execution_count": null,
      "outputs": [
        {
          "output_type": "stream",
          "name": "stdout",
          "text": [
            "Fitting 3 folds for each of 50 candidates, totalling 150 fits\n"
          ]
        },
        {
          "output_type": "stream",
          "name": "stderr",
          "text": [
            "/usr/local/lib/python3.8/dist-packages/joblib/externals/loky/process_executor.py:700: UserWarning: A worker stopped while some jobs were given to the executor. This can be caused by a too short worker timeout or by a memory leak.\n",
            "  warnings.warn(\n"
          ]
        },
        {
          "output_type": "stream",
          "name": "stdout",
          "text": [
            "Model with rank: 1\n",
            "Mean validation score: 0.654 (std: 0.003)\n",
            "Parameters: {'subsample': 1.0, 'reg_lambda': 2, 'n_estimators': 1024, 'max_depth': 9, 'learning_rate': 0.01, 'gamma': 0, 'colsample_bytree': 0.8}\n",
            "\n",
            "Model with rank: 2\n",
            "Mean validation score: 0.654 (std: 0.009)\n",
            "Parameters: {'subsample': 1.0, 'reg_lambda': 1, 'n_estimators': 1024, 'max_depth': 9, 'learning_rate': 0.01, 'gamma': 0, 'colsample_bytree': 0.6}\n",
            "\n",
            "Model with rank: 3\n",
            "Mean validation score: 0.654 (std: 0.016)\n",
            "Parameters: {'subsample': 0.5, 'reg_lambda': 2, 'n_estimators': 64, 'max_depth': 7, 'learning_rate': 0.1, 'gamma': 0.3, 'colsample_bytree': 1.0}\n",
            "\n",
            "Model with rank: 4\n",
            "Mean validation score: 0.654 (std: 0.018)\n",
            "Parameters: {'subsample': 0.5, 'reg_lambda': 1.5, 'n_estimators': 128, 'max_depth': 3, 'learning_rate': 0.1, 'gamma': 0, 'colsample_bytree': 0.8}\n",
            "\n",
            "Model with rank: 5\n",
            "Mean validation score: 0.654 (std: 0.024)\n",
            "Parameters: {'subsample': 0.5, 'reg_lambda': 1.5, 'n_estimators': 128, 'max_depth': 9, 'learning_rate': 0.1, 'gamma': 0.3, 'colsample_bytree': 1.0}\n",
            "\n"
          ]
        }
      ]
    },
    {
      "cell_type": "markdown",
      "source": [
        "Let's build the tuned model:"
      ],
      "metadata": {
        "id": "cH3P6UL2E257"
      }
    },
    {
      "cell_type": "code",
      "source": [
        "parameters = {'subsample': 1.0, 'reg_lambda': 2, 'n_estimators': 1024, 'max_depth': 9, 'learning_rate': 0.01, 'gamma': 0, 'colsample_bytree': 0.8, 'random_state' : 0}\n",
        "model = XGBClassifier(**parameters)\n",
        "\n",
        "model.fit(X_train, Y_train)\n",
        "Y_pred = model.predict(X_test)"
      ],
      "metadata": {
        "id": "FYYlfx2yE4QM"
      },
      "execution_count": null,
      "outputs": []
    },
    {
      "cell_type": "markdown",
      "source": [
        "Let us obtain its results:"
      ],
      "metadata": {
        "id": "eHDvLTvjE42v"
      }
    },
    {
      "cell_type": "code",
      "source": [
        "from tabulate import tabulate\n",
        "\n",
        "f1_val = f1_score(Y_test, Y_pred, average = 'micro')\n",
        "acc_val = precision_score(Y_test, Y_pred, average = 'micro')\n",
        "recall_val = recall_score(Y_test, Y_pred, average = 'micro')\n",
        "\n",
        "print(tabulate([[acc_val, recall_val, f1_val]], headers = ['Precision', 'Recall', 'F1 Score']))"
      ],
      "metadata": {
        "id": "dZfPtgwDE5kC",
        "colab": {
          "base_uri": "https://localhost:8080/"
        },
        "outputId": "01965204-8a55-48e0-efa0-e278db9a890b"
      },
      "execution_count": null,
      "outputs": [
        {
          "output_type": "stream",
          "name": "stdout",
          "text": [
            "  Precision    Recall    F1 Score\n",
            "-----------  --------  ----------\n",
            "   0.673333  0.673333    0.673333\n"
          ]
        }
      ]
    },
    {
      "cell_type": "markdown",
      "source": [
        "Also its confussion matrix:"
      ],
      "metadata": {
        "id": "cybYSoXCE7FK"
      }
    },
    {
      "cell_type": "code",
      "source": [
        "import matplotlib.pyplot as plt\n",
        "from sklearn.metrics import confusion_matrix, ConfusionMatrixDisplay\n",
        "cm = confusion_matrix(Y_test, Y_pred, labels= svm_model.classes_)\n",
        "disp = ConfusionMatrixDisplay(confusion_matrix=cm, display_labels=svm_model.classes_)\n",
        "disp.plot()"
      ],
      "metadata": {
        "id": "tTVCquoCE8Z3",
        "colab": {
          "base_uri": "https://localhost:8080/",
          "height": 296
        },
        "outputId": "4d9cef97-c611-43b3-8148-4f001d3975e2"
      },
      "execution_count": null,
      "outputs": [
        {
          "output_type": "execute_result",
          "data": {
            "text/plain": [
              "<sklearn.metrics._plot.confusion_matrix.ConfusionMatrixDisplay at 0x7f2c8572c220>"
            ]
          },
          "metadata": {},
          "execution_count": 12
        },
        {
          "output_type": "display_data",
          "data": {
            "text/plain": [
              "<Figure size 432x288 with 2 Axes>"
            ],
            "image/png": "[encoded data removed]"
          },
          "metadata": {
            "needs_background": "light"
          }
        }
      ]
    },
    {
      "cell_type": "markdown",
      "source": [
        "As we can see, the tuned model is actually bad. It  is worse than previous tuned XGBoost model, and much worse when compared to the tuned SVM models.\n",
        "\n",
        "It does try to predict 2 and 3, which is something that the default model would never do, but it makes multiple errors in its predictions (compare the confussion matrices) "
      ],
      "metadata": {
        "id": "AF7r4l-2F00E"
      }
    },
    {
      "cell_type": "markdown",
      "source": [
        "# 6. Conclusions"
      ],
      "metadata": {
        "id": "TPS0iqHFGPmj"
      }
    },
    {
      "cell_type": "markdown",
      "source": [
        "To conclude, we wanted to point out several lessons learned from the study:\n",
        "\n",
        "1. SVM looks generally better for this specific task when compared to XGBoost, as all the SVM models are better than the XGBoost models (even when they are tuned).\n",
        "\n",
        "2. Models will rarely predict label 2, most likely due to the unbalance in the data (it is really unlikely that someone will rate a product with 2 stars, probably 1 or 5 are the most common).\n",
        "\n",
        "3. A two-phase classification could be used for further improving the results (probably it would not improve too much, but it could improve the results slightly). The procedure would be as follows: a model would decide whether it is 5 rating or not (binary classification), for those predicted as no-5 rating, another model would predict which rating they should have. This kind of procedure (that we developed in the second project of this course) generally improves slightly the results when we have unbalanced data, as it is the case.\n"
      ],
      "metadata": {
        "id": "zefkNdSkGSez"
      }
    },
    {
      "cell_type": "markdown",
      "source": [
        "Finally, we put here a table to show the obtained scores by the different models:"
      ],
      "metadata": {
        "id": "uIeYZJDKHEmH"
      }
    },
    {
      "cell_type": "markdown",
      "source": [
        "![image.png](data:image/png;base64,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)"
      ],
      "metadata": {
        "id": "90ltWVsC3dIN"
      }
    },
    {
      "cell_type": "markdown",
      "source": [
        "As we can see from the table, we developed 4 different configurations, applying the same algorithms with and without tuning.\n",
        "\n",
        "The results show how there are 2 models that achieve the highest scores:\n",
        "\n",
        "1. SVM model on configuration 2 (tuned).\n",
        "2. SVM model on configuration 4 (tuned).\n",
        "\n",
        "If we take a look at the confussion matrices, they are pretty similar (they will never predict a rating of 2, and they will rarely predict a rating of 3).\n",
        "\n",
        "Thus, we conclude that the best model is SVM on configuration 2 (tuned), because it is simpler and it gives the same results (there is not a real difference between them)."
      ],
      "metadata": {
        "id": "p1FuX0Hf3kpW"
      }
    }
  ],
  "metadata": {
    "accelerator": "GPU",
    "colab": {
      "provenance": [],
      "toc_visible": true
    },
    "gpuClass": "standard",
    "kernelspec": {
      "display_name": "Python 3",
      "name": "python3"
    },
    "language_info": {
      "name": "python"
    }
  },
  "nbformat": 4,
  "nbformat_minor": 0
}